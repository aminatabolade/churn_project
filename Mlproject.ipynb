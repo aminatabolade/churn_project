{
 "cells": [
  {
   "cell_type": "markdown",
   "metadata": {
    "id": "ugssHqATjwyw"
   },
   "source": [
    "# Case Study: Predicting customer churn for an online store\n",
    "The goal of this project is to predict whether a customer is likely to churn or not based on historical data and relevant features using machine learning.\n"
   ]
  },
  {
   "cell_type": "markdown",
   "metadata": {
    "id": "L10w6QvOfKvV"
   },
   "source": [
    "# Data Preparation"
   ]
  },
  {
   "cell_type": "code",
   "execution_count": 1,
   "metadata": {
    "id": "ZVIwNpLWmvl3"
   },
   "outputs": [],
   "source": [
    "# Import necessary libraries\n",
    "\n",
    "## Exploratory Data Analysis\n",
    "import numpy as np\n",
    "import pandas as pd\n",
    "import matplotlib.pyplot as plt\n",
    "%matplotlib inline\n",
    "import seaborn as sns\n",
    "sns.set(color_codes = True)\n",
    "\n",
    "## Data processing\n",
    "from sklearn.preprocessing import OneHotEncoder\n",
    "from sklearn.compose import ColumnTransformer\n",
    "from sklearn.pipeline import Pipeline\n",
    "from imblearn.combine import SMOTEENN\n",
    "\n",
    "#Feature engineering\n",
    "from sklearn.feature_selection import SelectFromModel\n",
    "from sklearn.feature_selection import mutual_info_classif\n",
    "from sklearn.ensemble import RandomForestClassifier\n",
    "from sklearn.inspection import permutation_importance\n",
    "\n",
    "\n",
    "## Model\n",
    "from sklearn.linear_model import LogisticRegression\n",
    "\n",
    "## Model evaluators\n",
    "from sklearn.model_selection import train_test_split, cross_val_score\n",
    "from sklearn.model_selection import RandomizedSearchCV, GridSearchCV\n",
    "from sklearn.metrics import confusion_matrix, classification_report, accuracy_score\n",
    "from sklearn.metrics import precision_score, recall_score, f1_score\n",
    "from sklearn.metrics import RocCurveDisplay\n",
    "from sklearn.metrics import roc_curve\n",
    "from sklearn.metrics import roc_auc_score\n",
    "\n",
    "\n",
    "## Time\n",
    "import time\n",
    "\n",
    "#Saving and loading model\n",
    "import pickle"
   ]
  },
  {
   "cell_type": "code",
   "execution_count": 2,
   "metadata": {
    "id": "x3o49gTio0BS"
   },
   "outputs": [
    {
     "data": {
      "text/plain": [
       "(7043, 21)"
      ]
     },
     "execution_count": 2,
     "metadata": {},
     "output_type": "execute_result"
    }
   ],
   "source": [
    "#Import data\n",
    "df = pd.read_csv('WA_Fn-UseC_-Telco-Customer-Churn.csv')\n",
    "\n",
    "#Check data size\n",
    "df.shape"
   ]
  },
  {
   "cell_type": "markdown",
   "metadata": {
    "id": "i7invWDyfUMc"
   },
   "source": [
    "## Exploratory Data Analysis"
   ]
  },
  {
   "cell_type": "code",
   "execution_count": 3,
   "metadata": {
    "colab": {
     "base_uri": "https://localhost:8080/",
     "height": 342
    },
    "id": "ia2CAD--sAQA",
    "outputId": "fcee759b-554b-4fdc-cb78-fbb84549c70b"
   },
   "outputs": [
    {
     "data": {
      "text/html": [
       "<div>\n",
       "<style scoped>\n",
       "    .dataframe tbody tr th:only-of-type {\n",
       "        vertical-align: middle;\n",
       "    }\n",
       "\n",
       "    .dataframe tbody tr th {\n",
       "        vertical-align: top;\n",
       "    }\n",
       "\n",
       "    .dataframe thead th {\n",
       "        text-align: right;\n",
       "    }\n",
       "</style>\n",
       "<table border=\"1\" class=\"dataframe\">\n",
       "  <thead>\n",
       "    <tr style=\"text-align: right;\">\n",
       "      <th></th>\n",
       "      <th>customerID</th>\n",
       "      <th>gender</th>\n",
       "      <th>SeniorCitizen</th>\n",
       "      <th>Partner</th>\n",
       "      <th>Dependents</th>\n",
       "      <th>tenure</th>\n",
       "      <th>PhoneService</th>\n",
       "      <th>MultipleLines</th>\n",
       "      <th>InternetService</th>\n",
       "      <th>OnlineSecurity</th>\n",
       "      <th>...</th>\n",
       "      <th>DeviceProtection</th>\n",
       "      <th>TechSupport</th>\n",
       "      <th>StreamingTV</th>\n",
       "      <th>StreamingMovies</th>\n",
       "      <th>Contract</th>\n",
       "      <th>PaperlessBilling</th>\n",
       "      <th>PaymentMethod</th>\n",
       "      <th>MonthlyCharges</th>\n",
       "      <th>TotalCharges</th>\n",
       "      <th>Churn</th>\n",
       "    </tr>\n",
       "  </thead>\n",
       "  <tbody>\n",
       "    <tr>\n",
       "      <th>0</th>\n",
       "      <td>7590-VHVEG</td>\n",
       "      <td>Female</td>\n",
       "      <td>0</td>\n",
       "      <td>Yes</td>\n",
       "      <td>No</td>\n",
       "      <td>1</td>\n",
       "      <td>No</td>\n",
       "      <td>No phone service</td>\n",
       "      <td>DSL</td>\n",
       "      <td>No</td>\n",
       "      <td>...</td>\n",
       "      <td>No</td>\n",
       "      <td>No</td>\n",
       "      <td>No</td>\n",
       "      <td>No</td>\n",
       "      <td>Month-to-month</td>\n",
       "      <td>Yes</td>\n",
       "      <td>Electronic check</td>\n",
       "      <td>29.85</td>\n",
       "      <td>29.85</td>\n",
       "      <td>No</td>\n",
       "    </tr>\n",
       "    <tr>\n",
       "      <th>1</th>\n",
       "      <td>5575-GNVDE</td>\n",
       "      <td>Male</td>\n",
       "      <td>0</td>\n",
       "      <td>No</td>\n",
       "      <td>No</td>\n",
       "      <td>34</td>\n",
       "      <td>Yes</td>\n",
       "      <td>No</td>\n",
       "      <td>DSL</td>\n",
       "      <td>Yes</td>\n",
       "      <td>...</td>\n",
       "      <td>Yes</td>\n",
       "      <td>No</td>\n",
       "      <td>No</td>\n",
       "      <td>No</td>\n",
       "      <td>One year</td>\n",
       "      <td>No</td>\n",
       "      <td>Mailed check</td>\n",
       "      <td>56.95</td>\n",
       "      <td>1889.5</td>\n",
       "      <td>No</td>\n",
       "    </tr>\n",
       "    <tr>\n",
       "      <th>2</th>\n",
       "      <td>3668-QPYBK</td>\n",
       "      <td>Male</td>\n",
       "      <td>0</td>\n",
       "      <td>No</td>\n",
       "      <td>No</td>\n",
       "      <td>2</td>\n",
       "      <td>Yes</td>\n",
       "      <td>No</td>\n",
       "      <td>DSL</td>\n",
       "      <td>Yes</td>\n",
       "      <td>...</td>\n",
       "      <td>No</td>\n",
       "      <td>No</td>\n",
       "      <td>No</td>\n",
       "      <td>No</td>\n",
       "      <td>Month-to-month</td>\n",
       "      <td>Yes</td>\n",
       "      <td>Mailed check</td>\n",
       "      <td>53.85</td>\n",
       "      <td>108.15</td>\n",
       "      <td>Yes</td>\n",
       "    </tr>\n",
       "    <tr>\n",
       "      <th>3</th>\n",
       "      <td>7795-CFOCW</td>\n",
       "      <td>Male</td>\n",
       "      <td>0</td>\n",
       "      <td>No</td>\n",
       "      <td>No</td>\n",
       "      <td>45</td>\n",
       "      <td>No</td>\n",
       "      <td>No phone service</td>\n",
       "      <td>DSL</td>\n",
       "      <td>Yes</td>\n",
       "      <td>...</td>\n",
       "      <td>Yes</td>\n",
       "      <td>Yes</td>\n",
       "      <td>No</td>\n",
       "      <td>No</td>\n",
       "      <td>One year</td>\n",
       "      <td>No</td>\n",
       "      <td>Bank transfer (automatic)</td>\n",
       "      <td>42.30</td>\n",
       "      <td>1840.75</td>\n",
       "      <td>No</td>\n",
       "    </tr>\n",
       "    <tr>\n",
       "      <th>4</th>\n",
       "      <td>9237-HQITU</td>\n",
       "      <td>Female</td>\n",
       "      <td>0</td>\n",
       "      <td>No</td>\n",
       "      <td>No</td>\n",
       "      <td>2</td>\n",
       "      <td>Yes</td>\n",
       "      <td>No</td>\n",
       "      <td>Fiber optic</td>\n",
       "      <td>No</td>\n",
       "      <td>...</td>\n",
       "      <td>No</td>\n",
       "      <td>No</td>\n",
       "      <td>No</td>\n",
       "      <td>No</td>\n",
       "      <td>Month-to-month</td>\n",
       "      <td>Yes</td>\n",
       "      <td>Electronic check</td>\n",
       "      <td>70.70</td>\n",
       "      <td>151.65</td>\n",
       "      <td>Yes</td>\n",
       "    </tr>\n",
       "  </tbody>\n",
       "</table>\n",
       "<p>5 rows × 21 columns</p>\n",
       "</div>"
      ],
      "text/plain": [
       "   customerID  gender  SeniorCitizen Partner Dependents  tenure PhoneService  \\\n",
       "0  7590-VHVEG  Female              0     Yes         No       1           No   \n",
       "1  5575-GNVDE    Male              0      No         No      34          Yes   \n",
       "2  3668-QPYBK    Male              0      No         No       2          Yes   \n",
       "3  7795-CFOCW    Male              0      No         No      45           No   \n",
       "4  9237-HQITU  Female              0      No         No       2          Yes   \n",
       "\n",
       "      MultipleLines InternetService OnlineSecurity  ... DeviceProtection  \\\n",
       "0  No phone service             DSL             No  ...               No   \n",
       "1                No             DSL            Yes  ...              Yes   \n",
       "2                No             DSL            Yes  ...               No   \n",
       "3  No phone service             DSL            Yes  ...              Yes   \n",
       "4                No     Fiber optic             No  ...               No   \n",
       "\n",
       "  TechSupport StreamingTV StreamingMovies        Contract PaperlessBilling  \\\n",
       "0          No          No              No  Month-to-month              Yes   \n",
       "1          No          No              No        One year               No   \n",
       "2          No          No              No  Month-to-month              Yes   \n",
       "3         Yes          No              No        One year               No   \n",
       "4          No          No              No  Month-to-month              Yes   \n",
       "\n",
       "               PaymentMethod MonthlyCharges  TotalCharges Churn  \n",
       "0           Electronic check          29.85         29.85    No  \n",
       "1               Mailed check          56.95        1889.5    No  \n",
       "2               Mailed check          53.85        108.15   Yes  \n",
       "3  Bank transfer (automatic)          42.30       1840.75    No  \n",
       "4           Electronic check          70.70        151.65   Yes  \n",
       "\n",
       "[5 rows x 21 columns]"
      ]
     },
     "execution_count": 3,
     "metadata": {},
     "output_type": "execute_result"
    }
   ],
   "source": [
    "#View data\n",
    "df.head()"
   ]
  },
  {
   "cell_type": "code",
   "execution_count": 4,
   "metadata": {},
   "outputs": [
    {
     "data": {
      "text/html": [
       "<div>\n",
       "<style scoped>\n",
       "    .dataframe tbody tr th:only-of-type {\n",
       "        vertical-align: middle;\n",
       "    }\n",
       "\n",
       "    .dataframe tbody tr th {\n",
       "        vertical-align: top;\n",
       "    }\n",
       "\n",
       "    .dataframe thead th {\n",
       "        text-align: right;\n",
       "    }\n",
       "</style>\n",
       "<table border=\"1\" class=\"dataframe\">\n",
       "  <thead>\n",
       "    <tr style=\"text-align: right;\">\n",
       "      <th></th>\n",
       "      <th>0</th>\n",
       "      <th>1</th>\n",
       "      <th>2</th>\n",
       "      <th>3</th>\n",
       "      <th>4</th>\n",
       "    </tr>\n",
       "  </thead>\n",
       "  <tbody>\n",
       "    <tr>\n",
       "      <th>customerID</th>\n",
       "      <td>7590-VHVEG</td>\n",
       "      <td>5575-GNVDE</td>\n",
       "      <td>3668-QPYBK</td>\n",
       "      <td>7795-CFOCW</td>\n",
       "      <td>9237-HQITU</td>\n",
       "    </tr>\n",
       "    <tr>\n",
       "      <th>gender</th>\n",
       "      <td>Female</td>\n",
       "      <td>Male</td>\n",
       "      <td>Male</td>\n",
       "      <td>Male</td>\n",
       "      <td>Female</td>\n",
       "    </tr>\n",
       "    <tr>\n",
       "      <th>SeniorCitizen</th>\n",
       "      <td>0</td>\n",
       "      <td>0</td>\n",
       "      <td>0</td>\n",
       "      <td>0</td>\n",
       "      <td>0</td>\n",
       "    </tr>\n",
       "    <tr>\n",
       "      <th>Partner</th>\n",
       "      <td>Yes</td>\n",
       "      <td>No</td>\n",
       "      <td>No</td>\n",
       "      <td>No</td>\n",
       "      <td>No</td>\n",
       "    </tr>\n",
       "    <tr>\n",
       "      <th>Dependents</th>\n",
       "      <td>No</td>\n",
       "      <td>No</td>\n",
       "      <td>No</td>\n",
       "      <td>No</td>\n",
       "      <td>No</td>\n",
       "    </tr>\n",
       "    <tr>\n",
       "      <th>tenure</th>\n",
       "      <td>1</td>\n",
       "      <td>34</td>\n",
       "      <td>2</td>\n",
       "      <td>45</td>\n",
       "      <td>2</td>\n",
       "    </tr>\n",
       "    <tr>\n",
       "      <th>PhoneService</th>\n",
       "      <td>No</td>\n",
       "      <td>Yes</td>\n",
       "      <td>Yes</td>\n",
       "      <td>No</td>\n",
       "      <td>Yes</td>\n",
       "    </tr>\n",
       "    <tr>\n",
       "      <th>MultipleLines</th>\n",
       "      <td>No phone service</td>\n",
       "      <td>No</td>\n",
       "      <td>No</td>\n",
       "      <td>No phone service</td>\n",
       "      <td>No</td>\n",
       "    </tr>\n",
       "    <tr>\n",
       "      <th>InternetService</th>\n",
       "      <td>DSL</td>\n",
       "      <td>DSL</td>\n",
       "      <td>DSL</td>\n",
       "      <td>DSL</td>\n",
       "      <td>Fiber optic</td>\n",
       "    </tr>\n",
       "    <tr>\n",
       "      <th>OnlineSecurity</th>\n",
       "      <td>No</td>\n",
       "      <td>Yes</td>\n",
       "      <td>Yes</td>\n",
       "      <td>Yes</td>\n",
       "      <td>No</td>\n",
       "    </tr>\n",
       "    <tr>\n",
       "      <th>OnlineBackup</th>\n",
       "      <td>Yes</td>\n",
       "      <td>No</td>\n",
       "      <td>Yes</td>\n",
       "      <td>No</td>\n",
       "      <td>No</td>\n",
       "    </tr>\n",
       "    <tr>\n",
       "      <th>DeviceProtection</th>\n",
       "      <td>No</td>\n",
       "      <td>Yes</td>\n",
       "      <td>No</td>\n",
       "      <td>Yes</td>\n",
       "      <td>No</td>\n",
       "    </tr>\n",
       "    <tr>\n",
       "      <th>TechSupport</th>\n",
       "      <td>No</td>\n",
       "      <td>No</td>\n",
       "      <td>No</td>\n",
       "      <td>Yes</td>\n",
       "      <td>No</td>\n",
       "    </tr>\n",
       "    <tr>\n",
       "      <th>StreamingTV</th>\n",
       "      <td>No</td>\n",
       "      <td>No</td>\n",
       "      <td>No</td>\n",
       "      <td>No</td>\n",
       "      <td>No</td>\n",
       "    </tr>\n",
       "    <tr>\n",
       "      <th>StreamingMovies</th>\n",
       "      <td>No</td>\n",
       "      <td>No</td>\n",
       "      <td>No</td>\n",
       "      <td>No</td>\n",
       "      <td>No</td>\n",
       "    </tr>\n",
       "    <tr>\n",
       "      <th>Contract</th>\n",
       "      <td>Month-to-month</td>\n",
       "      <td>One year</td>\n",
       "      <td>Month-to-month</td>\n",
       "      <td>One year</td>\n",
       "      <td>Month-to-month</td>\n",
       "    </tr>\n",
       "    <tr>\n",
       "      <th>PaperlessBilling</th>\n",
       "      <td>Yes</td>\n",
       "      <td>No</td>\n",
       "      <td>Yes</td>\n",
       "      <td>No</td>\n",
       "      <td>Yes</td>\n",
       "    </tr>\n",
       "    <tr>\n",
       "      <th>PaymentMethod</th>\n",
       "      <td>Electronic check</td>\n",
       "      <td>Mailed check</td>\n",
       "      <td>Mailed check</td>\n",
       "      <td>Bank transfer (automatic)</td>\n",
       "      <td>Electronic check</td>\n",
       "    </tr>\n",
       "    <tr>\n",
       "      <th>MonthlyCharges</th>\n",
       "      <td>29.85</td>\n",
       "      <td>56.95</td>\n",
       "      <td>53.85</td>\n",
       "      <td>42.3</td>\n",
       "      <td>70.7</td>\n",
       "    </tr>\n",
       "    <tr>\n",
       "      <th>TotalCharges</th>\n",
       "      <td>29.85</td>\n",
       "      <td>1889.5</td>\n",
       "      <td>108.15</td>\n",
       "      <td>1840.75</td>\n",
       "      <td>151.65</td>\n",
       "    </tr>\n",
       "    <tr>\n",
       "      <th>Churn</th>\n",
       "      <td>No</td>\n",
       "      <td>No</td>\n",
       "      <td>Yes</td>\n",
       "      <td>No</td>\n",
       "      <td>Yes</td>\n",
       "    </tr>\n",
       "  </tbody>\n",
       "</table>\n",
       "</div>"
      ],
      "text/plain": [
       "                                 0             1               2  \\\n",
       "customerID              7590-VHVEG    5575-GNVDE      3668-QPYBK   \n",
       "gender                      Female          Male            Male   \n",
       "SeniorCitizen                    0             0               0   \n",
       "Partner                        Yes            No              No   \n",
       "Dependents                      No            No              No   \n",
       "tenure                           1            34               2   \n",
       "PhoneService                    No           Yes             Yes   \n",
       "MultipleLines     No phone service            No              No   \n",
       "InternetService                DSL           DSL             DSL   \n",
       "OnlineSecurity                  No           Yes             Yes   \n",
       "OnlineBackup                   Yes            No             Yes   \n",
       "DeviceProtection                No           Yes              No   \n",
       "TechSupport                     No            No              No   \n",
       "StreamingTV                     No            No              No   \n",
       "StreamingMovies                 No            No              No   \n",
       "Contract            Month-to-month      One year  Month-to-month   \n",
       "PaperlessBilling               Yes            No             Yes   \n",
       "PaymentMethod     Electronic check  Mailed check    Mailed check   \n",
       "MonthlyCharges               29.85         56.95           53.85   \n",
       "TotalCharges                 29.85        1889.5          108.15   \n",
       "Churn                           No            No             Yes   \n",
       "\n",
       "                                          3                 4  \n",
       "customerID                       7795-CFOCW        9237-HQITU  \n",
       "gender                                 Male            Female  \n",
       "SeniorCitizen                             0                 0  \n",
       "Partner                                  No                No  \n",
       "Dependents                               No                No  \n",
       "tenure                                   45                 2  \n",
       "PhoneService                             No               Yes  \n",
       "MultipleLines              No phone service                No  \n",
       "InternetService                         DSL       Fiber optic  \n",
       "OnlineSecurity                          Yes                No  \n",
       "OnlineBackup                             No                No  \n",
       "DeviceProtection                        Yes                No  \n",
       "TechSupport                             Yes                No  \n",
       "StreamingTV                              No                No  \n",
       "StreamingMovies                          No                No  \n",
       "Contract                           One year    Month-to-month  \n",
       "PaperlessBilling                         No               Yes  \n",
       "PaymentMethod     Bank transfer (automatic)  Electronic check  \n",
       "MonthlyCharges                         42.3              70.7  \n",
       "TotalCharges                        1840.75            151.65  \n",
       "Churn                                    No               Yes  "
      ]
     },
     "execution_count": 4,
     "metadata": {},
     "output_type": "execute_result"
    }
   ],
   "source": [
    "df.head().T"
   ]
  },
  {
   "cell_type": "code",
   "execution_count": 5,
   "metadata": {
    "colab": {
     "base_uri": "https://localhost:8080/"
    },
    "id": "ncMv0756skKW",
    "outputId": "e666b35e-12ae-4cf7-8f41-119b56867d43"
   },
   "outputs": [
    {
     "name": "stdout",
     "output_type": "stream",
     "text": [
      "<class 'pandas.core.frame.DataFrame'>\n",
      "RangeIndex: 7043 entries, 0 to 7042\n",
      "Data columns (total 21 columns):\n",
      " #   Column            Non-Null Count  Dtype  \n",
      "---  ------            --------------  -----  \n",
      " 0   customerID        7043 non-null   object \n",
      " 1   gender            7043 non-null   object \n",
      " 2   SeniorCitizen     7043 non-null   int64  \n",
      " 3   Partner           7043 non-null   object \n",
      " 4   Dependents        7043 non-null   object \n",
      " 5   tenure            7043 non-null   int64  \n",
      " 6   PhoneService      7043 non-null   object \n",
      " 7   MultipleLines     7043 non-null   object \n",
      " 8   InternetService   7043 non-null   object \n",
      " 9   OnlineSecurity    7043 non-null   object \n",
      " 10  OnlineBackup      7043 non-null   object \n",
      " 11  DeviceProtection  7043 non-null   object \n",
      " 12  TechSupport       7043 non-null   object \n",
      " 13  StreamingTV       7043 non-null   object \n",
      " 14  StreamingMovies   7043 non-null   object \n",
      " 15  Contract          7043 non-null   object \n",
      " 16  PaperlessBilling  7043 non-null   object \n",
      " 17  PaymentMethod     7043 non-null   object \n",
      " 18  MonthlyCharges    7043 non-null   float64\n",
      " 19  TotalCharges      7043 non-null   object \n",
      " 20  Churn             7043 non-null   object \n",
      "dtypes: float64(1), int64(2), object(18)\n",
      "memory usage: 1.1+ MB\n"
     ]
    }
   ],
   "source": [
    "#Data information\n",
    "df.info()"
   ]
  },
  {
   "cell_type": "code",
   "execution_count": 6,
   "metadata": {},
   "outputs": [
    {
     "data": {
      "text/plain": [
       "No     5174\n",
       "Yes    1869\n",
       "Name: Churn, dtype: int64"
      ]
     },
     "execution_count": 6,
     "metadata": {},
     "output_type": "execute_result"
    }
   ],
   "source": [
    "# Let's see how many customers churn (yes) and did not churn (no) samples\n",
    "df.Churn.value_counts()"
   ]
  },
  {
   "cell_type": "code",
   "execution_count": 7,
   "metadata": {},
   "outputs": [
    {
     "data": {
      "image/png": "[encoded data removed]",
      "text/plain": [
       "<Figure size 432x288 with 1 Axes>"
      ]
     },
     "metadata": {},
     "output_type": "display_data"
    }
   ],
   "source": [
    "# Visualize target value counts with a bar graph\n",
    "df.Churn.value_counts().plot(kind=\"bar\", color=[\"salmon\", \"lightblue\"]);"
   ]
  },
  {
   "cell_type": "code",
   "execution_count": 8,
   "metadata": {
    "colab": {
     "base_uri": "https://localhost:8080/",
     "height": 300
    },
    "id": "QAI6LGwam-ZZ",
    "outputId": "6685baff-4140-4894-b345-a6b36a938193"
   },
   "outputs": [
    {
     "data": {
      "text/html": [
       "<div>\n",
       "<style scoped>\n",
       "    .dataframe tbody tr th:only-of-type {\n",
       "        vertical-align: middle;\n",
       "    }\n",
       "\n",
       "    .dataframe tbody tr th {\n",
       "        vertical-align: top;\n",
       "    }\n",
       "\n",
       "    .dataframe thead th {\n",
       "        text-align: right;\n",
       "    }\n",
       "</style>\n",
       "<table border=\"1\" class=\"dataframe\">\n",
       "  <thead>\n",
       "    <tr style=\"text-align: right;\">\n",
       "      <th></th>\n",
       "      <th>count</th>\n",
       "      <th>mean</th>\n",
       "      <th>std</th>\n",
       "      <th>min</th>\n",
       "      <th>25%</th>\n",
       "      <th>50%</th>\n",
       "      <th>75%</th>\n",
       "      <th>max</th>\n",
       "    </tr>\n",
       "  </thead>\n",
       "  <tbody>\n",
       "    <tr>\n",
       "      <th>SeniorCitizen</th>\n",
       "      <td>7043.0</td>\n",
       "      <td>0.162147</td>\n",
       "      <td>0.368612</td>\n",
       "      <td>0.00</td>\n",
       "      <td>0.0</td>\n",
       "      <td>0.00</td>\n",
       "      <td>0.00</td>\n",
       "      <td>1.00</td>\n",
       "    </tr>\n",
       "    <tr>\n",
       "      <th>tenure</th>\n",
       "      <td>7043.0</td>\n",
       "      <td>32.371149</td>\n",
       "      <td>24.559481</td>\n",
       "      <td>0.00</td>\n",
       "      <td>9.0</td>\n",
       "      <td>29.00</td>\n",
       "      <td>55.00</td>\n",
       "      <td>72.00</td>\n",
       "    </tr>\n",
       "    <tr>\n",
       "      <th>MonthlyCharges</th>\n",
       "      <td>7043.0</td>\n",
       "      <td>64.761692</td>\n",
       "      <td>30.090047</td>\n",
       "      <td>18.25</td>\n",
       "      <td>35.5</td>\n",
       "      <td>70.35</td>\n",
       "      <td>89.85</td>\n",
       "      <td>118.75</td>\n",
       "    </tr>\n",
       "  </tbody>\n",
       "</table>\n",
       "</div>"
      ],
      "text/plain": [
       "                 count       mean        std    min   25%    50%    75%  \\\n",
       "SeniorCitizen   7043.0   0.162147   0.368612   0.00   0.0   0.00   0.00   \n",
       "tenure          7043.0  32.371149  24.559481   0.00   9.0  29.00  55.00   \n",
       "MonthlyCharges  7043.0  64.761692  30.090047  18.25  35.5  70.35  89.85   \n",
       "\n",
       "                   max  \n",
       "SeniorCitizen     1.00  \n",
       "tenure           72.00  \n",
       "MonthlyCharges  118.75  "
      ]
     },
     "execution_count": 8,
     "metadata": {},
     "output_type": "execute_result"
    }
   ],
   "source": [
    "#Describe numerical data\n",
    "df.describe().T"
   ]
  },
  {
   "cell_type": "code",
   "execution_count": 9,
   "metadata": {},
   "outputs": [
    {
     "data": {
      "image/png": "[encoded data removed]",
      "text/plain": [
       "<Figure size 597.475x540 with 12 Axes>"
      ]
     },
     "metadata": {},
     "output_type": "display_data"
    }
   ],
   "source": [
    "#Multiple comparison between numerical features and target\n",
    "sns.set_style(\"ticks\")\n",
    "sns.pairplot(df,hue = 'Churn',diag_kind = \"kde\",kind = \"scatter\",palette = \"husl\")\n",
    "plt.legend(title='Churn', loc='upper right', labels=['No = Did Not Churn', 'Yes = Churned']);\n",
    "plt.show()"
   ]
  },
  {
   "cell_type": "code",
   "execution_count": 10,
   "metadata": {},
   "outputs": [
    {
     "data": {
      "text/plain": [
       "Index(['customerID', 'gender', 'Partner', 'Dependents', 'PhoneService',\n",
       "       'MultipleLines', 'InternetService', 'OnlineSecurity', 'OnlineBackup',\n",
       "       'DeviceProtection', 'TechSupport', 'StreamingTV', 'StreamingMovies',\n",
       "       'Contract', 'PaperlessBilling', 'PaymentMethod', 'TotalCharges',\n",
       "       'Churn'],\n",
       "      dtype='object')"
      ]
     },
     "execution_count": 10,
     "metadata": {},
     "output_type": "execute_result"
    }
   ],
   "source": [
    "categorical_columns = df.select_dtypes(include=['object']).columns\n",
    "categorical_columns"
   ]
  },
  {
   "cell_type": "code",
   "execution_count": 11,
   "metadata": {},
   "outputs": [],
   "source": [
    "##"
   ]
  },
  {
   "cell_type": "markdown",
   "metadata": {
    "id": "MfY2z1GqkM6Q"
   },
   "source": [
    "# Data Preprocessing"
   ]
  },
  {
   "cell_type": "code",
   "execution_count": 12,
   "metadata": {
    "colab": {
     "base_uri": "https://localhost:8080/"
    },
    "id": "4Y_jpTCbmgv9",
    "outputId": "b5c26409-f1fb-4b3b-e639-e7f2d70cd255"
   },
   "outputs": [
    {
     "data": {
      "text/plain": [
       "customerID          0\n",
       "gender              0\n",
       "SeniorCitizen       0\n",
       "Partner             0\n",
       "Dependents          0\n",
       "tenure              0\n",
       "PhoneService        0\n",
       "MultipleLines       0\n",
       "InternetService     0\n",
       "OnlineSecurity      0\n",
       "OnlineBackup        0\n",
       "DeviceProtection    0\n",
       "TechSupport         0\n",
       "StreamingTV         0\n",
       "StreamingMovies     0\n",
       "Contract            0\n",
       "PaperlessBilling    0\n",
       "PaymentMethod       0\n",
       "MonthlyCharges      0\n",
       "TotalCharges        0\n",
       "Churn               0\n",
       "dtype: int64"
      ]
     },
     "execution_count": 12,
     "metadata": {},
     "output_type": "execute_result"
    }
   ],
   "source": [
    "# Check for missing values\n",
    "df.isna().sum()"
   ]
  },
  {
   "cell_type": "code",
   "execution_count": 13,
   "metadata": {
    "colab": {
     "base_uri": "https://localhost:8080/"
    },
    "id": "fq232qJHh0MM",
    "outputId": "691a59ec-ccfc-43cb-ea47-a3e7997f9eed"
   },
   "outputs": [
    {
     "data": {
      "text/plain": [
       "customerID           object\n",
       "gender               object\n",
       "SeniorCitizen         int64\n",
       "Partner              object\n",
       "Dependents           object\n",
       "tenure                int64\n",
       "PhoneService         object\n",
       "MultipleLines        object\n",
       "InternetService      object\n",
       "OnlineSecurity       object\n",
       "OnlineBackup         object\n",
       "DeviceProtection     object\n",
       "TechSupport          object\n",
       "StreamingTV          object\n",
       "StreamingMovies      object\n",
       "Contract             object\n",
       "PaperlessBilling     object\n",
       "PaymentMethod        object\n",
       "MonthlyCharges      float64\n",
       "TotalCharges         object\n",
       "Churn                object\n",
       "dtype: object"
      ]
     },
     "execution_count": 13,
     "metadata": {},
     "output_type": "execute_result"
    }
   ],
   "source": [
    "#Check for data types\n",
    "df.dtypes"
   ]
  },
  {
   "cell_type": "code",
   "execution_count": 14,
   "metadata": {
    "id": "wmtmMzfUnFlG"
   },
   "outputs": [],
   "source": [
    "# Make a copy of the original DataFrame to perform edits on\n",
    "df_new = df.copy()"
   ]
  },
  {
   "cell_type": "code",
   "execution_count": 15,
   "metadata": {
    "colab": {
     "base_uri": "https://localhost:8080/"
    },
    "id": "jhrnJZzbEOxQ",
    "outputId": "47b326e7-7cb4-409d-c6f9-4e6ca43a9132"
   },
   "outputs": [
    {
     "data": {
      "text/plain": [
       "0        No\n",
       "1        No\n",
       "2       Yes\n",
       "3        No\n",
       "4       Yes\n",
       "       ... \n",
       "7038     No\n",
       "7039     No\n",
       "7040     No\n",
       "7041    Yes\n",
       "7042     No\n",
       "Name: Churn, Length: 7043, dtype: object"
      ]
     },
     "execution_count": 15,
     "metadata": {},
     "output_type": "execute_result"
    }
   ],
   "source": [
    "#View target variable\n",
    "df_new.Churn"
   ]
  },
  {
   "cell_type": "code",
   "execution_count": 16,
   "metadata": {
    "colab": {
     "base_uri": "https://localhost:8080/"
    },
    "id": "CBD0zVuOC-mw",
    "outputId": "42ffb825-4bd4-40d9-a593-307080d951d9"
   },
   "outputs": [
    {
     "data": {
      "text/plain": [
       "0       0\n",
       "1       0\n",
       "2       1\n",
       "3       0\n",
       "4       1\n",
       "       ..\n",
       "7038    0\n",
       "7039    0\n",
       "7040    0\n",
       "7041    1\n",
       "7042    0\n",
       "Name: Churn, Length: 7043, dtype: int64"
      ]
     },
     "execution_count": 16,
     "metadata": {},
     "output_type": "execute_result"
    }
   ],
   "source": [
    "#Converting the column'churn' to numerical datatype\n",
    "# Apply the mapping to the \"Churn\" column\n",
    "df_new[\"Churn\"] = df_new[\"Churn\"].map({'Yes': 1, 'No': 0})\n",
    "df_new[\"Churn\"]"
   ]
  },
  {
   "cell_type": "markdown",
   "metadata": {},
   "source": [
    "#### Lets Convert Columns with strings to integers"
   ]
  },
  {
   "cell_type": "code",
   "execution_count": 17,
   "metadata": {
    "colab": {
     "base_uri": "https://localhost:8080/"
    },
    "id": "f3bbGhHbKshY",
    "outputId": "0e6df73d-ad4e-48eb-b54d-69e488fd1c88"
   },
   "outputs": [
    {
     "name": "stdout",
     "output_type": "stream",
     "text": [
      "customerID\n",
      "gender\n",
      "Partner\n",
      "Dependents\n",
      "PhoneService\n",
      "MultipleLines\n",
      "InternetService\n",
      "OnlineSecurity\n",
      "OnlineBackup\n",
      "DeviceProtection\n",
      "TechSupport\n",
      "StreamingTV\n",
      "StreamingMovies\n",
      "Contract\n",
      "PaperlessBilling\n",
      "PaymentMethod\n",
      "TotalCharges\n"
     ]
    }
   ],
   "source": [
    "#Checking columns with strings\n",
    "for label, content in df_new.items():\n",
    "    if pd.api.types.is_string_dtype(content):\n",
    "        print(label)"
   ]
  },
  {
   "cell_type": "code",
   "execution_count": 18,
   "metadata": {
    "id": "5NlhH8fiLk9p"
   },
   "outputs": [],
   "source": [
    "# Convert all  string values into category values\n",
    "for label, content in df_new.items():\n",
    "    if pd.api.types.is_string_dtype(content):\n",
    "        df_new[label] = content.astype(\"category\").cat.as_ordered()"
   ]
  },
  {
   "cell_type": "code",
   "execution_count": 19,
   "metadata": {
    "colab": {
     "base_uri": "https://localhost:8080/"
    },
    "id": "GwBI_XG0LydU",
    "outputId": "b78f7fb3-2967-483d-8efd-4d4c4dc7d82b"
   },
   "outputs": [
    {
     "data": {
      "text/plain": [
       "customerID          category\n",
       "gender              category\n",
       "SeniorCitizen          int64\n",
       "Partner             category\n",
       "Dependents          category\n",
       "tenure                 int64\n",
       "PhoneService        category\n",
       "MultipleLines       category\n",
       "InternetService     category\n",
       "OnlineSecurity      category\n",
       "OnlineBackup        category\n",
       "DeviceProtection    category\n",
       "TechSupport         category\n",
       "StreamingTV         category\n",
       "StreamingMovies     category\n",
       "Contract            category\n",
       "PaperlessBilling    category\n",
       "PaymentMethod       category\n",
       "MonthlyCharges       float64\n",
       "TotalCharges        category\n",
       "Churn                  int64\n",
       "dtype: object"
      ]
     },
     "execution_count": 19,
     "metadata": {},
     "output_type": "execute_result"
    }
   ],
   "source": [
    "#Check datatypes\n",
    "df_new.dtypes"
   ]
  },
  {
   "cell_type": "code",
   "execution_count": 20,
   "metadata": {
    "id": "vuFZryyIMX85"
   },
   "outputs": [],
   "source": [
    "# Convert categorical variables into numbers\n",
    "for label, content in df_new.items():\n",
    "    # Check columns which *aren't* numeric\n",
    "    if not pd.api.types.is_numeric_dtype(content):\n",
    "        df_new[label] = pd.Categorical(content).codes"
   ]
  },
  {
   "cell_type": "code",
   "execution_count": 21,
   "metadata": {
    "colab": {
     "base_uri": "https://localhost:8080/"
    },
    "id": "lavRgLfKMyBO",
    "outputId": "0da98b9f-6635-4bc2-954e-a366d41a566d"
   },
   "outputs": [
    {
     "data": {
      "text/plain": [
       "customerID            int16\n",
       "gender                 int8\n",
       "SeniorCitizen         int64\n",
       "Partner                int8\n",
       "Dependents             int8\n",
       "tenure                int64\n",
       "PhoneService           int8\n",
       "MultipleLines          int8\n",
       "InternetService        int8\n",
       "OnlineSecurity         int8\n",
       "OnlineBackup           int8\n",
       "DeviceProtection       int8\n",
       "TechSupport            int8\n",
       "StreamingTV            int8\n",
       "StreamingMovies        int8\n",
       "Contract               int8\n",
       "PaperlessBilling       int8\n",
       "PaymentMethod          int8\n",
       "MonthlyCharges      float64\n",
       "TotalCharges          int16\n",
       "Churn                 int64\n",
       "dtype: object"
      ]
     },
     "execution_count": 21,
     "metadata": {},
     "output_type": "execute_result"
    }
   ],
   "source": [
    "#Check datatype again\n",
    "df_new.dtypes"
   ]
  },
  {
   "cell_type": "code",
   "execution_count": 22,
   "metadata": {
    "colab": {
     "base_uri": "https://localhost:8080/",
     "height": 412
    },
    "id": "KPMZT-yMM2aR",
    "outputId": "5f3eef7f-2651-42c9-8af4-377ac45932e6"
   },
   "outputs": [
    {
     "data": {
      "text/html": [
       "<div>\n",
       "<style scoped>\n",
       "    .dataframe tbody tr th:only-of-type {\n",
       "        vertical-align: middle;\n",
       "    }\n",
       "\n",
       "    .dataframe tbody tr th {\n",
       "        vertical-align: top;\n",
       "    }\n",
       "\n",
       "    .dataframe thead th {\n",
       "        text-align: right;\n",
       "    }\n",
       "</style>\n",
       "<table border=\"1\" class=\"dataframe\">\n",
       "  <thead>\n",
       "    <tr style=\"text-align: right;\">\n",
       "      <th></th>\n",
       "      <th>customerID</th>\n",
       "      <th>gender</th>\n",
       "      <th>SeniorCitizen</th>\n",
       "      <th>Partner</th>\n",
       "      <th>Dependents</th>\n",
       "      <th>tenure</th>\n",
       "      <th>PhoneService</th>\n",
       "      <th>MultipleLines</th>\n",
       "      <th>InternetService</th>\n",
       "      <th>OnlineSecurity</th>\n",
       "      <th>...</th>\n",
       "      <th>DeviceProtection</th>\n",
       "      <th>TechSupport</th>\n",
       "      <th>StreamingTV</th>\n",
       "      <th>StreamingMovies</th>\n",
       "      <th>Contract</th>\n",
       "      <th>PaperlessBilling</th>\n",
       "      <th>PaymentMethod</th>\n",
       "      <th>MonthlyCharges</th>\n",
       "      <th>TotalCharges</th>\n",
       "      <th>Churn</th>\n",
       "    </tr>\n",
       "  </thead>\n",
       "  <tbody>\n",
       "    <tr>\n",
       "      <th>0</th>\n",
       "      <td>5375</td>\n",
       "      <td>0</td>\n",
       "      <td>0</td>\n",
       "      <td>1</td>\n",
       "      <td>0</td>\n",
       "      <td>1</td>\n",
       "      <td>0</td>\n",
       "      <td>1</td>\n",
       "      <td>0</td>\n",
       "      <td>0</td>\n",
       "      <td>...</td>\n",
       "      <td>0</td>\n",
       "      <td>0</td>\n",
       "      <td>0</td>\n",
       "      <td>0</td>\n",
       "      <td>0</td>\n",
       "      <td>1</td>\n",
       "      <td>2</td>\n",
       "      <td>29.85</td>\n",
       "      <td>2505</td>\n",
       "      <td>0</td>\n",
       "    </tr>\n",
       "    <tr>\n",
       "      <th>1</th>\n",
       "      <td>3962</td>\n",
       "      <td>1</td>\n",
       "      <td>0</td>\n",
       "      <td>0</td>\n",
       "      <td>0</td>\n",
       "      <td>34</td>\n",
       "      <td>1</td>\n",
       "      <td>0</td>\n",
       "      <td>0</td>\n",
       "      <td>2</td>\n",
       "      <td>...</td>\n",
       "      <td>2</td>\n",
       "      <td>0</td>\n",
       "      <td>0</td>\n",
       "      <td>0</td>\n",
       "      <td>1</td>\n",
       "      <td>0</td>\n",
       "      <td>3</td>\n",
       "      <td>56.95</td>\n",
       "      <td>1466</td>\n",
       "      <td>0</td>\n",
       "    </tr>\n",
       "    <tr>\n",
       "      <th>2</th>\n",
       "      <td>2564</td>\n",
       "      <td>1</td>\n",
       "      <td>0</td>\n",
       "      <td>0</td>\n",
       "      <td>0</td>\n",
       "      <td>2</td>\n",
       "      <td>1</td>\n",
       "      <td>0</td>\n",
       "      <td>0</td>\n",
       "      <td>2</td>\n",
       "      <td>...</td>\n",
       "      <td>0</td>\n",
       "      <td>0</td>\n",
       "      <td>0</td>\n",
       "      <td>0</td>\n",
       "      <td>0</td>\n",
       "      <td>1</td>\n",
       "      <td>3</td>\n",
       "      <td>53.85</td>\n",
       "      <td>157</td>\n",
       "      <td>1</td>\n",
       "    </tr>\n",
       "    <tr>\n",
       "      <th>3</th>\n",
       "      <td>5535</td>\n",
       "      <td>1</td>\n",
       "      <td>0</td>\n",
       "      <td>0</td>\n",
       "      <td>0</td>\n",
       "      <td>45</td>\n",
       "      <td>0</td>\n",
       "      <td>1</td>\n",
       "      <td>0</td>\n",
       "      <td>2</td>\n",
       "      <td>...</td>\n",
       "      <td>2</td>\n",
       "      <td>2</td>\n",
       "      <td>0</td>\n",
       "      <td>0</td>\n",
       "      <td>1</td>\n",
       "      <td>0</td>\n",
       "      <td>0</td>\n",
       "      <td>42.30</td>\n",
       "      <td>1400</td>\n",
       "      <td>0</td>\n",
       "    </tr>\n",
       "    <tr>\n",
       "      <th>4</th>\n",
       "      <td>6511</td>\n",
       "      <td>0</td>\n",
       "      <td>0</td>\n",
       "      <td>0</td>\n",
       "      <td>0</td>\n",
       "      <td>2</td>\n",
       "      <td>1</td>\n",
       "      <td>0</td>\n",
       "      <td>1</td>\n",
       "      <td>0</td>\n",
       "      <td>...</td>\n",
       "      <td>0</td>\n",
       "      <td>0</td>\n",
       "      <td>0</td>\n",
       "      <td>0</td>\n",
       "      <td>0</td>\n",
       "      <td>1</td>\n",
       "      <td>2</td>\n",
       "      <td>70.70</td>\n",
       "      <td>925</td>\n",
       "      <td>1</td>\n",
       "    </tr>\n",
       "    <tr>\n",
       "      <th>5</th>\n",
       "      <td>6551</td>\n",
       "      <td>0</td>\n",
       "      <td>0</td>\n",
       "      <td>0</td>\n",
       "      <td>0</td>\n",
       "      <td>8</td>\n",
       "      <td>1</td>\n",
       "      <td>2</td>\n",
       "      <td>1</td>\n",
       "      <td>0</td>\n",
       "      <td>...</td>\n",
       "      <td>2</td>\n",
       "      <td>0</td>\n",
       "      <td>2</td>\n",
       "      <td>2</td>\n",
       "      <td>0</td>\n",
       "      <td>1</td>\n",
       "      <td>2</td>\n",
       "      <td>99.65</td>\n",
       "      <td>6104</td>\n",
       "      <td>1</td>\n",
       "    </tr>\n",
       "    <tr>\n",
       "      <th>6</th>\n",
       "      <td>1002</td>\n",
       "      <td>1</td>\n",
       "      <td>0</td>\n",
       "      <td>0</td>\n",
       "      <td>1</td>\n",
       "      <td>22</td>\n",
       "      <td>1</td>\n",
       "      <td>2</td>\n",
       "      <td>1</td>\n",
       "      <td>0</td>\n",
       "      <td>...</td>\n",
       "      <td>0</td>\n",
       "      <td>0</td>\n",
       "      <td>2</td>\n",
       "      <td>0</td>\n",
       "      <td>0</td>\n",
       "      <td>1</td>\n",
       "      <td>1</td>\n",
       "      <td>89.10</td>\n",
       "      <td>1550</td>\n",
       "      <td>0</td>\n",
       "    </tr>\n",
       "    <tr>\n",
       "      <th>7</th>\n",
       "      <td>4770</td>\n",
       "      <td>0</td>\n",
       "      <td>0</td>\n",
       "      <td>0</td>\n",
       "      <td>0</td>\n",
       "      <td>10</td>\n",
       "      <td>0</td>\n",
       "      <td>1</td>\n",
       "      <td>0</td>\n",
       "      <td>2</td>\n",
       "      <td>...</td>\n",
       "      <td>0</td>\n",
       "      <td>0</td>\n",
       "      <td>0</td>\n",
       "      <td>0</td>\n",
       "      <td>0</td>\n",
       "      <td>0</td>\n",
       "      <td>3</td>\n",
       "      <td>29.75</td>\n",
       "      <td>2609</td>\n",
       "      <td>0</td>\n",
       "    </tr>\n",
       "    <tr>\n",
       "      <th>8</th>\n",
       "      <td>5604</td>\n",
       "      <td>0</td>\n",
       "      <td>0</td>\n",
       "      <td>1</td>\n",
       "      <td>0</td>\n",
       "      <td>28</td>\n",
       "      <td>1</td>\n",
       "      <td>2</td>\n",
       "      <td>1</td>\n",
       "      <td>0</td>\n",
       "      <td>...</td>\n",
       "      <td>2</td>\n",
       "      <td>2</td>\n",
       "      <td>2</td>\n",
       "      <td>2</td>\n",
       "      <td>0</td>\n",
       "      <td>1</td>\n",
       "      <td>2</td>\n",
       "      <td>104.80</td>\n",
       "      <td>2646</td>\n",
       "      <td>1</td>\n",
       "    </tr>\n",
       "    <tr>\n",
       "      <th>9</th>\n",
       "      <td>4534</td>\n",
       "      <td>1</td>\n",
       "      <td>0</td>\n",
       "      <td>0</td>\n",
       "      <td>1</td>\n",
       "      <td>62</td>\n",
       "      <td>1</td>\n",
       "      <td>0</td>\n",
       "      <td>0</td>\n",
       "      <td>2</td>\n",
       "      <td>...</td>\n",
       "      <td>0</td>\n",
       "      <td>0</td>\n",
       "      <td>0</td>\n",
       "      <td>0</td>\n",
       "      <td>1</td>\n",
       "      <td>0</td>\n",
       "      <td>0</td>\n",
       "      <td>56.15</td>\n",
       "      <td>3022</td>\n",
       "      <td>0</td>\n",
       "    </tr>\n",
       "  </tbody>\n",
       "</table>\n",
       "<p>10 rows × 21 columns</p>\n",
       "</div>"
      ],
      "text/plain": [
       "   customerID  gender  SeniorCitizen  Partner  Dependents  tenure  \\\n",
       "0        5375       0              0        1           0       1   \n",
       "1        3962       1              0        0           0      34   \n",
       "2        2564       1              0        0           0       2   \n",
       "3        5535       1              0        0           0      45   \n",
       "4        6511       0              0        0           0       2   \n",
       "5        6551       0              0        0           0       8   \n",
       "6        1002       1              0        0           1      22   \n",
       "7        4770       0              0        0           0      10   \n",
       "8        5604       0              0        1           0      28   \n",
       "9        4534       1              0        0           1      62   \n",
       "\n",
       "   PhoneService  MultipleLines  InternetService  OnlineSecurity  ...  \\\n",
       "0             0              1                0               0  ...   \n",
       "1             1              0                0               2  ...   \n",
       "2             1              0                0               2  ...   \n",
       "3             0              1                0               2  ...   \n",
       "4             1              0                1               0  ...   \n",
       "5             1              2                1               0  ...   \n",
       "6             1              2                1               0  ...   \n",
       "7             0              1                0               2  ...   \n",
       "8             1              2                1               0  ...   \n",
       "9             1              0                0               2  ...   \n",
       "\n",
       "   DeviceProtection  TechSupport  StreamingTV  StreamingMovies  Contract  \\\n",
       "0                 0            0            0                0         0   \n",
       "1                 2            0            0                0         1   \n",
       "2                 0            0            0                0         0   \n",
       "3                 2            2            0                0         1   \n",
       "4                 0            0            0                0         0   \n",
       "5                 2            0            2                2         0   \n",
       "6                 0            0            2                0         0   \n",
       "7                 0            0            0                0         0   \n",
       "8                 2            2            2                2         0   \n",
       "9                 0            0            0                0         1   \n",
       "\n",
       "   PaperlessBilling  PaymentMethod  MonthlyCharges  TotalCharges  Churn  \n",
       "0                 1              2           29.85          2505      0  \n",
       "1                 0              3           56.95          1466      0  \n",
       "2                 1              3           53.85           157      1  \n",
       "3                 0              0           42.30          1400      0  \n",
       "4                 1              2           70.70           925      1  \n",
       "5                 1              2           99.65          6104      1  \n",
       "6                 1              1           89.10          1550      0  \n",
       "7                 0              3           29.75          2609      0  \n",
       "8                 1              2          104.80          2646      1  \n",
       "9                 0              0           56.15          3022      0  \n",
       "\n",
       "[10 rows x 21 columns]"
      ]
     },
     "execution_count": 22,
     "metadata": {},
     "output_type": "execute_result"
    }
   ],
   "source": [
    "#View data\n",
    "df_new.head(10)"
   ]
  },
  {
   "cell_type": "markdown",
   "metadata": {
    "id": "7Ppalti6JJOd"
   },
   "source": [
    "# Feature Selection"
   ]
  },
  {
   "cell_type": "code",
   "execution_count": 23,
   "metadata": {
    "id": "gjL53HUnvfB1"
   },
   "outputs": [],
   "source": [
    "# Split data into X & y \n",
    "\n",
    "# All feature variables\n",
    "X = df_new.drop(\"Churn\", axis=1)\n",
    "\n",
    "# Target variable\n",
    "y = df_new[\"Churn\"]"
   ]
  },
  {
   "cell_type": "code",
   "execution_count": 24,
   "metadata": {
    "colab": {
     "base_uri": "https://localhost:8080/",
     "height": 451
    },
    "id": "h0GLPYBDHfsB",
    "outputId": "902754c2-0019-4edc-d6b6-ef6eea526d57"
   },
   "outputs": [
    {
     "data": {
      "text/plain": [
       "<function matplotlib.pyplot.show(close=None, block=None)>"
      ]
     },
     "execution_count": 24,
     "metadata": {},
     "output_type": "execute_result"
    },
    {
     "data": {
      "image/png": "[encoded data removed]",
      "text/plain": [
       "<Figure size 432x288 with 1 Axes>"
      ]
     },
     "metadata": {},
     "output_type": "display_data"
    }
   ],
   "source": [
    "#Analysing important features using Information Gain\n",
    "importances = mutual_info_classif(X, y)\n",
    "\n",
    "feat_importances = pd.Series(importances, df_new.columns[0:len(df_new.columns)-1])\n",
    "\n",
    "feat_importances.plot(kind='barh', color = 'teal')\n",
    "plt.show"
   ]
  },
  {
   "cell_type": "markdown",
   "metadata": {
    "id": "HzpCP4lwUzuw"
   },
   "source": [
    "> MultipleLines and gender have little relevance for predicting churn\n",
    "\n",
    "\n"
   ]
  },
  {
   "cell_type": "code",
   "execution_count": 25,
   "metadata": {
    "colab": {
     "base_uri": "https://localhost:8080/",
     "height": 757
    },
    "id": "9REjOEAyhr09",
    "outputId": "73c2e15e-0bf6-4924-ce50-1b4a4b9d6c08"
   },
   "outputs": [
    {
     "data": {
      "text/html": [
       "<div>\n",
       "<style scoped>\n",
       "    .dataframe tbody tr th:only-of-type {\n",
       "        vertical-align: middle;\n",
       "    }\n",
       "\n",
       "    .dataframe tbody tr th {\n",
       "        vertical-align: top;\n",
       "    }\n",
       "\n",
       "    .dataframe thead th {\n",
       "        text-align: right;\n",
       "    }\n",
       "</style>\n",
       "<table border=\"1\" class=\"dataframe\">\n",
       "  <thead>\n",
       "    <tr style=\"text-align: right;\">\n",
       "      <th></th>\n",
       "      <th>customerID</th>\n",
       "      <th>gender</th>\n",
       "      <th>SeniorCitizen</th>\n",
       "      <th>Partner</th>\n",
       "      <th>Dependents</th>\n",
       "      <th>tenure</th>\n",
       "      <th>PhoneService</th>\n",
       "      <th>MultipleLines</th>\n",
       "      <th>InternetService</th>\n",
       "      <th>OnlineSecurity</th>\n",
       "      <th>...</th>\n",
       "      <th>DeviceProtection</th>\n",
       "      <th>TechSupport</th>\n",
       "      <th>StreamingTV</th>\n",
       "      <th>StreamingMovies</th>\n",
       "      <th>Contract</th>\n",
       "      <th>PaperlessBilling</th>\n",
       "      <th>PaymentMethod</th>\n",
       "      <th>MonthlyCharges</th>\n",
       "      <th>TotalCharges</th>\n",
       "      <th>Churn</th>\n",
       "    </tr>\n",
       "  </thead>\n",
       "  <tbody>\n",
       "    <tr>\n",
       "      <th>customerID</th>\n",
       "      <td>1.000000</td>\n",
       "      <td>0.006288</td>\n",
       "      <td>-0.002074</td>\n",
       "      <td>-0.026729</td>\n",
       "      <td>-0.012823</td>\n",
       "      <td>0.008035</td>\n",
       "      <td>-0.006483</td>\n",
       "      <td>0.004316</td>\n",
       "      <td>-0.012407</td>\n",
       "      <td>0.013292</td>\n",
       "      <td>...</td>\n",
       "      <td>-0.006918</td>\n",
       "      <td>0.001140</td>\n",
       "      <td>-0.007777</td>\n",
       "      <td>-0.016746</td>\n",
       "      <td>0.015028</td>\n",
       "      <td>-0.001945</td>\n",
       "      <td>0.011604</td>\n",
       "      <td>-0.003916</td>\n",
       "      <td>0.003027</td>\n",
       "      <td>-0.017447</td>\n",
       "    </tr>\n",
       "    <tr>\n",
       "      <th>gender</th>\n",
       "      <td>0.006288</td>\n",
       "      <td>1.000000</td>\n",
       "      <td>-0.001874</td>\n",
       "      <td>-0.001808</td>\n",
       "      <td>0.010517</td>\n",
       "      <td>0.005106</td>\n",
       "      <td>-0.006488</td>\n",
       "      <td>-0.006739</td>\n",
       "      <td>-0.000863</td>\n",
       "      <td>-0.015017</td>\n",
       "      <td>...</td>\n",
       "      <td>0.000549</td>\n",
       "      <td>-0.006825</td>\n",
       "      <td>-0.006421</td>\n",
       "      <td>-0.008743</td>\n",
       "      <td>0.000126</td>\n",
       "      <td>-0.011754</td>\n",
       "      <td>0.017352</td>\n",
       "      <td>-0.014569</td>\n",
       "      <td>-0.005291</td>\n",
       "      <td>-0.008612</td>\n",
       "    </tr>\n",
       "    <tr>\n",
       "      <th>SeniorCitizen</th>\n",
       "      <td>-0.002074</td>\n",
       "      <td>-0.001874</td>\n",
       "      <td>1.000000</td>\n",
       "      <td>0.016479</td>\n",
       "      <td>-0.211185</td>\n",
       "      <td>0.016567</td>\n",
       "      <td>0.008576</td>\n",
       "      <td>0.146185</td>\n",
       "      <td>-0.032310</td>\n",
       "      <td>-0.128221</td>\n",
       "      <td>...</td>\n",
       "      <td>-0.021398</td>\n",
       "      <td>-0.151268</td>\n",
       "      <td>0.030776</td>\n",
       "      <td>0.047266</td>\n",
       "      <td>-0.142554</td>\n",
       "      <td>0.156530</td>\n",
       "      <td>-0.038551</td>\n",
       "      <td>0.220173</td>\n",
       "      <td>0.037653</td>\n",
       "      <td>0.150889</td>\n",
       "    </tr>\n",
       "    <tr>\n",
       "      <th>Partner</th>\n",
       "      <td>-0.026729</td>\n",
       "      <td>-0.001808</td>\n",
       "      <td>0.016479</td>\n",
       "      <td>1.000000</td>\n",
       "      <td>0.452676</td>\n",
       "      <td>0.379697</td>\n",
       "      <td>0.017706</td>\n",
       "      <td>0.142410</td>\n",
       "      <td>0.000891</td>\n",
       "      <td>0.150828</td>\n",
       "      <td>...</td>\n",
       "      <td>0.166330</td>\n",
       "      <td>0.126733</td>\n",
       "      <td>0.137341</td>\n",
       "      <td>0.129574</td>\n",
       "      <td>0.294806</td>\n",
       "      <td>-0.014877</td>\n",
       "      <td>-0.154798</td>\n",
       "      <td>0.096848</td>\n",
       "      <td>0.059568</td>\n",
       "      <td>-0.150448</td>\n",
       "    </tr>\n",
       "    <tr>\n",
       "      <th>Dependents</th>\n",
       "      <td>-0.012823</td>\n",
       "      <td>0.010517</td>\n",
       "      <td>-0.211185</td>\n",
       "      <td>0.452676</td>\n",
       "      <td>1.000000</td>\n",
       "      <td>0.159712</td>\n",
       "      <td>-0.001762</td>\n",
       "      <td>-0.024991</td>\n",
       "      <td>0.044590</td>\n",
       "      <td>0.152166</td>\n",
       "      <td>...</td>\n",
       "      <td>0.080537</td>\n",
       "      <td>0.133524</td>\n",
       "      <td>0.046885</td>\n",
       "      <td>0.021321</td>\n",
       "      <td>0.243187</td>\n",
       "      <td>-0.111377</td>\n",
       "      <td>-0.040292</td>\n",
       "      <td>-0.113890</td>\n",
       "      <td>-0.009572</td>\n",
       "      <td>-0.164221</td>\n",
       "    </tr>\n",
       "    <tr>\n",
       "      <th>tenure</th>\n",
       "      <td>0.008035</td>\n",
       "      <td>0.005106</td>\n",
       "      <td>0.016567</td>\n",
       "      <td>0.379697</td>\n",
       "      <td>0.159712</td>\n",
       "      <td>1.000000</td>\n",
       "      <td>0.008448</td>\n",
       "      <td>0.343032</td>\n",
       "      <td>-0.030359</td>\n",
       "      <td>0.325468</td>\n",
       "      <td>...</td>\n",
       "      <td>0.371105</td>\n",
       "      <td>0.322942</td>\n",
       "      <td>0.289373</td>\n",
       "      <td>0.296866</td>\n",
       "      <td>0.671607</td>\n",
       "      <td>0.006152</td>\n",
       "      <td>-0.370436</td>\n",
       "      <td>0.247900</td>\n",
       "      <td>0.158523</td>\n",
       "      <td>-0.352229</td>\n",
       "    </tr>\n",
       "    <tr>\n",
       "      <th>PhoneService</th>\n",
       "      <td>-0.006483</td>\n",
       "      <td>-0.006488</td>\n",
       "      <td>0.008576</td>\n",
       "      <td>0.017706</td>\n",
       "      <td>-0.001762</td>\n",
       "      <td>0.008448</td>\n",
       "      <td>1.000000</td>\n",
       "      <td>-0.020538</td>\n",
       "      <td>0.387436</td>\n",
       "      <td>-0.015198</td>\n",
       "      <td>...</td>\n",
       "      <td>0.003727</td>\n",
       "      <td>-0.019158</td>\n",
       "      <td>0.055353</td>\n",
       "      <td>0.043870</td>\n",
       "      <td>0.002247</td>\n",
       "      <td>0.016505</td>\n",
       "      <td>-0.004184</td>\n",
       "      <td>0.247398</td>\n",
       "      <td>0.083195</td>\n",
       "      <td>0.011942</td>\n",
       "    </tr>\n",
       "    <tr>\n",
       "      <th>MultipleLines</th>\n",
       "      <td>0.004316</td>\n",
       "      <td>-0.006739</td>\n",
       "      <td>0.146185</td>\n",
       "      <td>0.142410</td>\n",
       "      <td>-0.024991</td>\n",
       "      <td>0.343032</td>\n",
       "      <td>-0.020538</td>\n",
       "      <td>1.000000</td>\n",
       "      <td>-0.109216</td>\n",
       "      <td>0.007141</td>\n",
       "      <td>...</td>\n",
       "      <td>0.122318</td>\n",
       "      <td>0.011466</td>\n",
       "      <td>0.175059</td>\n",
       "      <td>0.180957</td>\n",
       "      <td>0.110842</td>\n",
       "      <td>0.165146</td>\n",
       "      <td>-0.176793</td>\n",
       "      <td>0.433576</td>\n",
       "      <td>0.114955</td>\n",
       "      <td>0.038037</td>\n",
       "    </tr>\n",
       "    <tr>\n",
       "      <th>InternetService</th>\n",
       "      <td>-0.012407</td>\n",
       "      <td>-0.000863</td>\n",
       "      <td>-0.032310</td>\n",
       "      <td>0.000891</td>\n",
       "      <td>0.044590</td>\n",
       "      <td>-0.030359</td>\n",
       "      <td>0.387436</td>\n",
       "      <td>-0.109216</td>\n",
       "      <td>1.000000</td>\n",
       "      <td>-0.028416</td>\n",
       "      <td>...</td>\n",
       "      <td>0.044944</td>\n",
       "      <td>-0.026047</td>\n",
       "      <td>0.107417</td>\n",
       "      <td>0.098350</td>\n",
       "      <td>0.099721</td>\n",
       "      <td>-0.138625</td>\n",
       "      <td>0.086140</td>\n",
       "      <td>-0.323260</td>\n",
       "      <td>-0.055724</td>\n",
       "      <td>-0.047291</td>\n",
       "    </tr>\n",
       "    <tr>\n",
       "      <th>OnlineSecurity</th>\n",
       "      <td>0.013292</td>\n",
       "      <td>-0.015017</td>\n",
       "      <td>-0.128221</td>\n",
       "      <td>0.150828</td>\n",
       "      <td>0.152166</td>\n",
       "      <td>0.325468</td>\n",
       "      <td>-0.015198</td>\n",
       "      <td>0.007141</td>\n",
       "      <td>-0.028416</td>\n",
       "      <td>1.000000</td>\n",
       "      <td>...</td>\n",
       "      <td>0.175985</td>\n",
       "      <td>0.285028</td>\n",
       "      <td>0.044669</td>\n",
       "      <td>0.055954</td>\n",
       "      <td>0.374416</td>\n",
       "      <td>-0.157641</td>\n",
       "      <td>-0.096726</td>\n",
       "      <td>-0.053878</td>\n",
       "      <td>0.042357</td>\n",
       "      <td>-0.289309</td>\n",
       "    </tr>\n",
       "    <tr>\n",
       "      <th>OnlineBackup</th>\n",
       "      <td>-0.003334</td>\n",
       "      <td>-0.012057</td>\n",
       "      <td>-0.013632</td>\n",
       "      <td>0.153130</td>\n",
       "      <td>0.091015</td>\n",
       "      <td>0.370876</td>\n",
       "      <td>0.024105</td>\n",
       "      <td>0.117327</td>\n",
       "      <td>0.036138</td>\n",
       "      <td>0.185126</td>\n",
       "      <td>...</td>\n",
       "      <td>0.187757</td>\n",
       "      <td>0.195748</td>\n",
       "      <td>0.147186</td>\n",
       "      <td>0.136722</td>\n",
       "      <td>0.280980</td>\n",
       "      <td>-0.013370</td>\n",
       "      <td>-0.124847</td>\n",
       "      <td>0.119777</td>\n",
       "      <td>0.090756</td>\n",
       "      <td>-0.195525</td>\n",
       "    </tr>\n",
       "    <tr>\n",
       "      <th>DeviceProtection</th>\n",
       "      <td>-0.006918</td>\n",
       "      <td>0.000549</td>\n",
       "      <td>-0.021398</td>\n",
       "      <td>0.166330</td>\n",
       "      <td>0.080537</td>\n",
       "      <td>0.371105</td>\n",
       "      <td>0.003727</td>\n",
       "      <td>0.122318</td>\n",
       "      <td>0.044944</td>\n",
       "      <td>0.175985</td>\n",
       "      <td>...</td>\n",
       "      <td>1.000000</td>\n",
       "      <td>0.240593</td>\n",
       "      <td>0.276652</td>\n",
       "      <td>0.288799</td>\n",
       "      <td>0.350277</td>\n",
       "      <td>-0.038234</td>\n",
       "      <td>-0.135750</td>\n",
       "      <td>0.163652</td>\n",
       "      <td>0.105905</td>\n",
       "      <td>-0.178134</td>\n",
       "    </tr>\n",
       "    <tr>\n",
       "      <th>TechSupport</th>\n",
       "      <td>0.001140</td>\n",
       "      <td>-0.006825</td>\n",
       "      <td>-0.151268</td>\n",
       "      <td>0.126733</td>\n",
       "      <td>0.133524</td>\n",
       "      <td>0.322942</td>\n",
       "      <td>-0.019158</td>\n",
       "      <td>0.011466</td>\n",
       "      <td>-0.026047</td>\n",
       "      <td>0.285028</td>\n",
       "      <td>...</td>\n",
       "      <td>0.240593</td>\n",
       "      <td>1.000000</td>\n",
       "      <td>0.161305</td>\n",
       "      <td>0.161316</td>\n",
       "      <td>0.425367</td>\n",
       "      <td>-0.113600</td>\n",
       "      <td>-0.104670</td>\n",
       "      <td>-0.008682</td>\n",
       "      <td>0.057488</td>\n",
       "      <td>-0.282492</td>\n",
       "    </tr>\n",
       "    <tr>\n",
       "      <th>StreamingTV</th>\n",
       "      <td>-0.007777</td>\n",
       "      <td>-0.006421</td>\n",
       "      <td>0.030776</td>\n",
       "      <td>0.137341</td>\n",
       "      <td>0.046885</td>\n",
       "      <td>0.289373</td>\n",
       "      <td>0.055353</td>\n",
       "      <td>0.175059</td>\n",
       "      <td>0.107417</td>\n",
       "      <td>0.044669</td>\n",
       "      <td>...</td>\n",
       "      <td>0.276652</td>\n",
       "      <td>0.161305</td>\n",
       "      <td>1.000000</td>\n",
       "      <td>0.434772</td>\n",
       "      <td>0.227116</td>\n",
       "      <td>0.096642</td>\n",
       "      <td>-0.104234</td>\n",
       "      <td>0.336706</td>\n",
       "      <td>0.138173</td>\n",
       "      <td>-0.036581</td>\n",
       "    </tr>\n",
       "    <tr>\n",
       "      <th>StreamingMovies</th>\n",
       "      <td>-0.016746</td>\n",
       "      <td>-0.008743</td>\n",
       "      <td>0.047266</td>\n",
       "      <td>0.129574</td>\n",
       "      <td>0.021321</td>\n",
       "      <td>0.296866</td>\n",
       "      <td>0.043870</td>\n",
       "      <td>0.180957</td>\n",
       "      <td>0.098350</td>\n",
       "      <td>0.055954</td>\n",
       "      <td>...</td>\n",
       "      <td>0.288799</td>\n",
       "      <td>0.161316</td>\n",
       "      <td>0.434772</td>\n",
       "      <td>1.000000</td>\n",
       "      <td>0.231226</td>\n",
       "      <td>0.083700</td>\n",
       "      <td>-0.111241</td>\n",
       "      <td>0.335459</td>\n",
       "      <td>0.145366</td>\n",
       "      <td>-0.038492</td>\n",
       "    </tr>\n",
       "    <tr>\n",
       "      <th>Contract</th>\n",
       "      <td>0.015028</td>\n",
       "      <td>0.000126</td>\n",
       "      <td>-0.142554</td>\n",
       "      <td>0.294806</td>\n",
       "      <td>0.243187</td>\n",
       "      <td>0.671607</td>\n",
       "      <td>0.002247</td>\n",
       "      <td>0.110842</td>\n",
       "      <td>0.099721</td>\n",
       "      <td>0.374416</td>\n",
       "      <td>...</td>\n",
       "      <td>0.350277</td>\n",
       "      <td>0.425367</td>\n",
       "      <td>0.227116</td>\n",
       "      <td>0.231226</td>\n",
       "      <td>1.000000</td>\n",
       "      <td>-0.176733</td>\n",
       "      <td>-0.227543</td>\n",
       "      <td>-0.074195</td>\n",
       "      <td>0.106178</td>\n",
       "      <td>-0.396713</td>\n",
       "    </tr>\n",
       "    <tr>\n",
       "      <th>PaperlessBilling</th>\n",
       "      <td>-0.001945</td>\n",
       "      <td>-0.011754</td>\n",
       "      <td>0.156530</td>\n",
       "      <td>-0.014877</td>\n",
       "      <td>-0.111377</td>\n",
       "      <td>0.006152</td>\n",
       "      <td>0.016505</td>\n",
       "      <td>0.165146</td>\n",
       "      <td>-0.138625</td>\n",
       "      <td>-0.157641</td>\n",
       "      <td>...</td>\n",
       "      <td>-0.038234</td>\n",
       "      <td>-0.113600</td>\n",
       "      <td>0.096642</td>\n",
       "      <td>0.083700</td>\n",
       "      <td>-0.176733</td>\n",
       "      <td>1.000000</td>\n",
       "      <td>-0.062904</td>\n",
       "      <td>0.352150</td>\n",
       "      <td>0.100957</td>\n",
       "      <td>0.191825</td>\n",
       "    </tr>\n",
       "    <tr>\n",
       "      <th>PaymentMethod</th>\n",
       "      <td>0.011604</td>\n",
       "      <td>0.017352</td>\n",
       "      <td>-0.038551</td>\n",
       "      <td>-0.154798</td>\n",
       "      <td>-0.040292</td>\n",
       "      <td>-0.370436</td>\n",
       "      <td>-0.004184</td>\n",
       "      <td>-0.176793</td>\n",
       "      <td>0.086140</td>\n",
       "      <td>-0.096726</td>\n",
       "      <td>...</td>\n",
       "      <td>-0.135750</td>\n",
       "      <td>-0.104670</td>\n",
       "      <td>-0.104234</td>\n",
       "      <td>-0.111241</td>\n",
       "      <td>-0.227543</td>\n",
       "      <td>-0.062904</td>\n",
       "      <td>1.000000</td>\n",
       "      <td>-0.193407</td>\n",
       "      <td>-0.067477</td>\n",
       "      <td>0.107062</td>\n",
       "    </tr>\n",
       "    <tr>\n",
       "      <th>MonthlyCharges</th>\n",
       "      <td>-0.003916</td>\n",
       "      <td>-0.014569</td>\n",
       "      <td>0.220173</td>\n",
       "      <td>0.096848</td>\n",
       "      <td>-0.113890</td>\n",
       "      <td>0.247900</td>\n",
       "      <td>0.247398</td>\n",
       "      <td>0.433576</td>\n",
       "      <td>-0.323260</td>\n",
       "      <td>-0.053878</td>\n",
       "      <td>...</td>\n",
       "      <td>0.163652</td>\n",
       "      <td>-0.008682</td>\n",
       "      <td>0.336706</td>\n",
       "      <td>0.335459</td>\n",
       "      <td>-0.074195</td>\n",
       "      <td>0.352150</td>\n",
       "      <td>-0.193407</td>\n",
       "      <td>1.000000</td>\n",
       "      <td>0.279875</td>\n",
       "      <td>0.193356</td>\n",
       "    </tr>\n",
       "    <tr>\n",
       "      <th>TotalCharges</th>\n",
       "      <td>0.003027</td>\n",
       "      <td>-0.005291</td>\n",
       "      <td>0.037653</td>\n",
       "      <td>0.059568</td>\n",
       "      <td>-0.009572</td>\n",
       "      <td>0.158523</td>\n",
       "      <td>0.083195</td>\n",
       "      <td>0.114955</td>\n",
       "      <td>-0.055724</td>\n",
       "      <td>0.042357</td>\n",
       "      <td>...</td>\n",
       "      <td>0.105905</td>\n",
       "      <td>0.057488</td>\n",
       "      <td>0.138173</td>\n",
       "      <td>0.145366</td>\n",
       "      <td>0.106178</td>\n",
       "      <td>0.100957</td>\n",
       "      <td>-0.067477</td>\n",
       "      <td>0.279875</td>\n",
       "      <td>1.000000</td>\n",
       "      <td>0.014479</td>\n",
       "    </tr>\n",
       "    <tr>\n",
       "      <th>Churn</th>\n",
       "      <td>-0.017447</td>\n",
       "      <td>-0.008612</td>\n",
       "      <td>0.150889</td>\n",
       "      <td>-0.150448</td>\n",
       "      <td>-0.164221</td>\n",
       "      <td>-0.352229</td>\n",
       "      <td>0.011942</td>\n",
       "      <td>0.038037</td>\n",
       "      <td>-0.047291</td>\n",
       "      <td>-0.289309</td>\n",
       "      <td>...</td>\n",
       "      <td>-0.178134</td>\n",
       "      <td>-0.282492</td>\n",
       "      <td>-0.036581</td>\n",
       "      <td>-0.038492</td>\n",
       "      <td>-0.396713</td>\n",
       "      <td>0.191825</td>\n",
       "      <td>0.107062</td>\n",
       "      <td>0.193356</td>\n",
       "      <td>0.014479</td>\n",
       "      <td>1.000000</td>\n",
       "    </tr>\n",
       "  </tbody>\n",
       "</table>\n",
       "<p>21 rows × 21 columns</p>\n",
       "</div>"
      ],
      "text/plain": [
       "                  customerID    gender  SeniorCitizen   Partner  Dependents  \\\n",
       "customerID          1.000000  0.006288      -0.002074 -0.026729   -0.012823   \n",
       "gender              0.006288  1.000000      -0.001874 -0.001808    0.010517   \n",
       "SeniorCitizen      -0.002074 -0.001874       1.000000  0.016479   -0.211185   \n",
       "Partner            -0.026729 -0.001808       0.016479  1.000000    0.452676   \n",
       "Dependents         -0.012823  0.010517      -0.211185  0.452676    1.000000   \n",
       "tenure              0.008035  0.005106       0.016567  0.379697    0.159712   \n",
       "PhoneService       -0.006483 -0.006488       0.008576  0.017706   -0.001762   \n",
       "MultipleLines       0.004316 -0.006739       0.146185  0.142410   -0.024991   \n",
       "InternetService    -0.012407 -0.000863      -0.032310  0.000891    0.044590   \n",
       "OnlineSecurity      0.013292 -0.015017      -0.128221  0.150828    0.152166   \n",
       "OnlineBackup       -0.003334 -0.012057      -0.013632  0.153130    0.091015   \n",
       "DeviceProtection   -0.006918  0.000549      -0.021398  0.166330    0.080537   \n",
       "TechSupport         0.001140 -0.006825      -0.151268  0.126733    0.133524   \n",
       "StreamingTV        -0.007777 -0.006421       0.030776  0.137341    0.046885   \n",
       "StreamingMovies    -0.016746 -0.008743       0.047266  0.129574    0.021321   \n",
       "Contract            0.015028  0.000126      -0.142554  0.294806    0.243187   \n",
       "PaperlessBilling   -0.001945 -0.011754       0.156530 -0.014877   -0.111377   \n",
       "PaymentMethod       0.011604  0.017352      -0.038551 -0.154798   -0.040292   \n",
       "MonthlyCharges     -0.003916 -0.014569       0.220173  0.096848   -0.113890   \n",
       "TotalCharges        0.003027 -0.005291       0.037653  0.059568   -0.009572   \n",
       "Churn              -0.017447 -0.008612       0.150889 -0.150448   -0.164221   \n",
       "\n",
       "                    tenure  PhoneService  MultipleLines  InternetService  \\\n",
       "customerID        0.008035     -0.006483       0.004316        -0.012407   \n",
       "gender            0.005106     -0.006488      -0.006739        -0.000863   \n",
       "SeniorCitizen     0.016567      0.008576       0.146185        -0.032310   \n",
       "Partner           0.379697      0.017706       0.142410         0.000891   \n",
       "Dependents        0.159712     -0.001762      -0.024991         0.044590   \n",
       "tenure            1.000000      0.008448       0.343032        -0.030359   \n",
       "PhoneService      0.008448      1.000000      -0.020538         0.387436   \n",
       "MultipleLines     0.343032     -0.020538       1.000000        -0.109216   \n",
       "InternetService  -0.030359      0.387436      -0.109216         1.000000   \n",
       "OnlineSecurity    0.325468     -0.015198       0.007141        -0.028416   \n",
       "OnlineBackup      0.370876      0.024105       0.117327         0.036138   \n",
       "DeviceProtection  0.371105      0.003727       0.122318         0.044944   \n",
       "TechSupport       0.322942     -0.019158       0.011466        -0.026047   \n",
       "StreamingTV       0.289373      0.055353       0.175059         0.107417   \n",
       "StreamingMovies   0.296866      0.043870       0.180957         0.098350   \n",
       "Contract          0.671607      0.002247       0.110842         0.099721   \n",
       "PaperlessBilling  0.006152      0.016505       0.165146        -0.138625   \n",
       "PaymentMethod    -0.370436     -0.004184      -0.176793         0.086140   \n",
       "MonthlyCharges    0.247900      0.247398       0.433576        -0.323260   \n",
       "TotalCharges      0.158523      0.083195       0.114955        -0.055724   \n",
       "Churn            -0.352229      0.011942       0.038037        -0.047291   \n",
       "\n",
       "                  OnlineSecurity  ...  DeviceProtection  TechSupport  \\\n",
       "customerID              0.013292  ...         -0.006918     0.001140   \n",
       "gender                 -0.015017  ...          0.000549    -0.006825   \n",
       "SeniorCitizen          -0.128221  ...         -0.021398    -0.151268   \n",
       "Partner                 0.150828  ...          0.166330     0.126733   \n",
       "Dependents              0.152166  ...          0.080537     0.133524   \n",
       "tenure                  0.325468  ...          0.371105     0.322942   \n",
       "PhoneService           -0.015198  ...          0.003727    -0.019158   \n",
       "MultipleLines           0.007141  ...          0.122318     0.011466   \n",
       "InternetService        -0.028416  ...          0.044944    -0.026047   \n",
       "OnlineSecurity          1.000000  ...          0.175985     0.285028   \n",
       "OnlineBackup            0.185126  ...          0.187757     0.195748   \n",
       "DeviceProtection        0.175985  ...          1.000000     0.240593   \n",
       "TechSupport             0.285028  ...          0.240593     1.000000   \n",
       "StreamingTV             0.044669  ...          0.276652     0.161305   \n",
       "StreamingMovies         0.055954  ...          0.288799     0.161316   \n",
       "Contract                0.374416  ...          0.350277     0.425367   \n",
       "PaperlessBilling       -0.157641  ...         -0.038234    -0.113600   \n",
       "PaymentMethod          -0.096726  ...         -0.135750    -0.104670   \n",
       "MonthlyCharges         -0.053878  ...          0.163652    -0.008682   \n",
       "TotalCharges            0.042357  ...          0.105905     0.057488   \n",
       "Churn                  -0.289309  ...         -0.178134    -0.282492   \n",
       "\n",
       "                  StreamingTV  StreamingMovies  Contract  PaperlessBilling  \\\n",
       "customerID          -0.007777        -0.016746  0.015028         -0.001945   \n",
       "gender              -0.006421        -0.008743  0.000126         -0.011754   \n",
       "SeniorCitizen        0.030776         0.047266 -0.142554          0.156530   \n",
       "Partner              0.137341         0.129574  0.294806         -0.014877   \n",
       "Dependents           0.046885         0.021321  0.243187         -0.111377   \n",
       "tenure               0.289373         0.296866  0.671607          0.006152   \n",
       "PhoneService         0.055353         0.043870  0.002247          0.016505   \n",
       "MultipleLines        0.175059         0.180957  0.110842          0.165146   \n",
       "InternetService      0.107417         0.098350  0.099721         -0.138625   \n",
       "OnlineSecurity       0.044669         0.055954  0.374416         -0.157641   \n",
       "OnlineBackup         0.147186         0.136722  0.280980         -0.013370   \n",
       "DeviceProtection     0.276652         0.288799  0.350277         -0.038234   \n",
       "TechSupport          0.161305         0.161316  0.425367         -0.113600   \n",
       "StreamingTV          1.000000         0.434772  0.227116          0.096642   \n",
       "StreamingMovies      0.434772         1.000000  0.231226          0.083700   \n",
       "Contract             0.227116         0.231226  1.000000         -0.176733   \n",
       "PaperlessBilling     0.096642         0.083700 -0.176733          1.000000   \n",
       "PaymentMethod       -0.104234        -0.111241 -0.227543         -0.062904   \n",
       "MonthlyCharges       0.336706         0.335459 -0.074195          0.352150   \n",
       "TotalCharges         0.138173         0.145366  0.106178          0.100957   \n",
       "Churn               -0.036581        -0.038492 -0.396713          0.191825   \n",
       "\n",
       "                  PaymentMethod  MonthlyCharges  TotalCharges     Churn  \n",
       "customerID             0.011604       -0.003916      0.003027 -0.017447  \n",
       "gender                 0.017352       -0.014569     -0.005291 -0.008612  \n",
       "SeniorCitizen         -0.038551        0.220173      0.037653  0.150889  \n",
       "Partner               -0.154798        0.096848      0.059568 -0.150448  \n",
       "Dependents            -0.040292       -0.113890     -0.009572 -0.164221  \n",
       "tenure                -0.370436        0.247900      0.158523 -0.352229  \n",
       "PhoneService          -0.004184        0.247398      0.083195  0.011942  \n",
       "MultipleLines         -0.176793        0.433576      0.114955  0.038037  \n",
       "InternetService        0.086140       -0.323260     -0.055724 -0.047291  \n",
       "OnlineSecurity        -0.096726       -0.053878      0.042357 -0.289309  \n",
       "OnlineBackup          -0.124847        0.119777      0.090756 -0.195525  \n",
       "DeviceProtection      -0.135750        0.163652      0.105905 -0.178134  \n",
       "TechSupport           -0.104670       -0.008682      0.057488 -0.282492  \n",
       "StreamingTV           -0.104234        0.336706      0.138173 -0.036581  \n",
       "StreamingMovies       -0.111241        0.335459      0.145366 -0.038492  \n",
       "Contract              -0.227543       -0.074195      0.106178 -0.396713  \n",
       "PaperlessBilling      -0.062904        0.352150      0.100957  0.191825  \n",
       "PaymentMethod          1.000000       -0.193407     -0.067477  0.107062  \n",
       "MonthlyCharges        -0.193407        1.000000      0.279875  0.193356  \n",
       "TotalCharges          -0.067477        0.279875      1.000000  0.014479  \n",
       "Churn                  0.107062        0.193356      0.014479  1.000000  \n",
       "\n",
       "[21 rows x 21 columns]"
      ]
     },
     "execution_count": 25,
     "metadata": {},
     "output_type": "execute_result"
    }
   ],
   "source": [
    "#Feature selection using correlation\n",
    "corr = df_new.corr()\n",
    "corr"
   ]
  },
  {
   "cell_type": "code",
   "execution_count": 26,
   "metadata": {},
   "outputs": [
    {
     "data": {
      "image/png": "[encoded data removed]",
      "text/plain": [
       "<Figure size 1080x720 with 2 Axes>"
      ]
     },
     "metadata": {},
     "output_type": "display_data"
    }
   ],
   "source": [
    "#Visualize correlation\n",
    "corr_matrix = df_new.corr()\n",
    "plt.figure(figsize=(15, 10))\n",
    "sns.heatmap(corr_matrix, \n",
    "            annot=True, \n",
    "            linewidths=0.5, \n",
    "            fmt= \".2f\", \n",
    "            cmap=\"Paired\");\n"
   ]
  },
  {
   "cell_type": "markdown",
   "metadata": {},
   "source": [
    "#### Feature importance based on feature permutation\n",
    "\n",
    "*Permutation feature importance overcomes limitations of the impurity-based feature importance: they do not have a bias toward high-cardinality features and can be computed on a left-out test set*. (https://scikit-learn.org/stable/auto_examples/ensemble/plot_forest_importances.html#sphx-glr-auto-examples-ensemble-plot-forest-importances-py)"
   ]
  },
  {
   "cell_type": "code",
   "execution_count": 27,
   "metadata": {},
   "outputs": [
    {
     "name": "stdout",
     "output_type": "stream",
     "text": [
      "Elapsed time to compute the importances: 7.527 seconds\n"
     ]
    }
   ],
   "source": [
    "# Random seed for reproducibility\n",
    "np.random.seed(42)\n",
    "\n",
    "# Split into train & test set\n",
    "X_train, X_test, y_train, y_test = train_test_split(X, # independent variables\n",
    "                                                    y, # dependent variable\n",
    "                                                    test_size = 0.2) # percentage of data to use for test set\n",
    "#Model for engineering\n",
    "forest = RandomForestClassifier(random_state=0)\n",
    "\n",
    "#Fit training data to model\n",
    "forest.fit(X_train, y_train)\n",
    "\n",
    "#Select features name\n",
    "feature_names = X_train.columns\n",
    "\n",
    "#Set start time\n",
    "start_time = time.time()\n",
    "\n",
    "#Feature importance using permutation importance\n",
    "result = permutation_importance(\n",
    "    forest, X_test, y_test, n_repeats=10, random_state=42, n_jobs=2\n",
    ")\n",
    "#Set elapsed time\n",
    "elapsed_time = time.time() - start_time\n",
    "\n",
    "print(f\"Elapsed time to compute the importances: {elapsed_time:.3f} seconds\")\n",
    "\n",
    "forest_importances = pd.Series(result.importances_mean, index=feature_names)"
   ]
  },
  {
   "cell_type": "code",
   "execution_count": 28,
   "metadata": {},
   "outputs": [
    {
     "data": {
      "text/plain": [
       "customerID          0.001348\n",
       "gender              0.001845\n",
       "SeniorCitizen       0.003194\n",
       "Partner            -0.000994\n",
       "Dependents         -0.001632\n",
       "tenure              0.046061\n",
       "PhoneService       -0.001419\n",
       "MultipleLines       0.000284\n",
       "InternetService     0.008872\n",
       "OnlineSecurity      0.009439\n",
       "OnlineBackup       -0.002200\n",
       "DeviceProtection    0.002626\n",
       "TechSupport         0.006955\n",
       "StreamingTV        -0.000923\n",
       "StreamingMovies    -0.004684\n",
       "Contract            0.030944\n",
       "PaperlessBilling    0.000568\n",
       "PaymentMethod      -0.001916\n",
       "MonthlyCharges      0.013272\n",
       "TotalCharges        0.002200\n",
       "dtype: float64"
      ]
     },
     "execution_count": 28,
     "metadata": {},
     "output_type": "execute_result"
    }
   ],
   "source": [
    "#View result\n",
    "forest_importances"
   ]
  },
  {
   "cell_type": "code",
   "execution_count": 29,
   "metadata": {},
   "outputs": [
    {
     "data": {
      "image/png": "[encoded data removed]",
      "text/plain": [
       "<Figure size 432x288 with 1 Axes>"
      ]
     },
     "metadata": {},
     "output_type": "display_data"
    }
   ],
   "source": [
    "#Visualizing result\n",
    "fig, ax = plt.subplots()\n",
    "forest_importances.plot.bar(yerr=result.importances_std, ax=ax)\n",
    "ax.set_title(\"Feature importances using permutation on full model\")\n",
    "ax.set_ylabel(\"Mean accuracy decrease\")\n",
    "fig.tight_layout()\n",
    "plt.show()"
   ]
  },
  {
   "cell_type": "markdown",
   "metadata": {},
   "source": [
    "Remark: Features like PhoneService, MultipleLines, OnlineBackup, StreamingTV, StreamingMovies  have low importance, suggesting that they don't have a strong impact on the model's predictions. Hence, will be dropped.\n",
    "\n",
    "Partner, Dependents and PaymentMethod negatively affects the outcome. Hence, will be dropped.\n",
    "\n",
    "CustomerID will also be dropped as it is an identifier assigned to each customer and doesn't inherently carry any predictive information.\n",
    "\n",
    "Gender will be dropped as it as very small positive impact on the outcome."
   ]
  },
  {
   "cell_type": "markdown",
   "metadata": {},
   "source": [
    "##### Drop features with the least importance"
   ]
  },
  {
   "cell_type": "code",
   "execution_count": 30,
   "metadata": {},
   "outputs": [
    {
     "data": {
      "text/plain": [
       "Index(['customerID', 'gender', 'SeniorCitizen', 'Partner', 'Dependents',\n",
       "       'tenure', 'PhoneService', 'MultipleLines', 'InternetService',\n",
       "       'OnlineSecurity', 'OnlineBackup', 'DeviceProtection', 'TechSupport',\n",
       "       'StreamingTV', 'StreamingMovies', 'Contract', 'PaperlessBilling',\n",
       "       'PaymentMethod', 'MonthlyCharges', 'TotalCharges'],\n",
       "      dtype='object')"
      ]
     },
     "execution_count": 30,
     "metadata": {},
     "output_type": "execute_result"
    }
   ],
   "source": [
    "#View features\n",
    "X.columns"
   ]
  },
  {
   "cell_type": "code",
   "execution_count": 31,
   "metadata": {},
   "outputs": [
    {
     "data": {
      "text/plain": [
       "Index(['SeniorCitizen', 'tenure', 'InternetService', 'OnlineSecurity',\n",
       "       'DeviceProtection', 'TechSupport', 'Contract', 'PaperlessBilling',\n",
       "       'MonthlyCharges', 'TotalCharges'],\n",
       "      dtype='object')"
      ]
     },
     "execution_count": 31,
     "metadata": {},
     "output_type": "execute_result"
    }
   ],
   "source": [
    "# List of columns to drop\n",
    "columns_to_drop = ['customerID', 'gender','PhoneService', 'MultipleLines', 'OnlineBackup', 'StreamingTV', \n",
    "                   'StreamingMovies', 'Partner', 'Dependents', 'PaymentMethod']\n",
    "\n",
    "# Drop the specified columns\n",
    "X_new = X.drop(columns=columns_to_drop)\n",
    "\n",
    "X_new.columns"
   ]
  },
  {
   "cell_type": "code",
   "execution_count": 32,
   "metadata": {},
   "outputs": [
    {
     "data": {
      "text/html": [
       "<div>\n",
       "<style scoped>\n",
       "    .dataframe tbody tr th:only-of-type {\n",
       "        vertical-align: middle;\n",
       "    }\n",
       "\n",
       "    .dataframe tbody tr th {\n",
       "        vertical-align: top;\n",
       "    }\n",
       "\n",
       "    .dataframe thead th {\n",
       "        text-align: right;\n",
       "    }\n",
       "</style>\n",
       "<table border=\"1\" class=\"dataframe\">\n",
       "  <thead>\n",
       "    <tr style=\"text-align: right;\">\n",
       "      <th></th>\n",
       "      <th>SeniorCitizen</th>\n",
       "      <th>tenure</th>\n",
       "      <th>InternetService</th>\n",
       "      <th>OnlineSecurity</th>\n",
       "      <th>DeviceProtection</th>\n",
       "      <th>TechSupport</th>\n",
       "      <th>Contract</th>\n",
       "      <th>PaperlessBilling</th>\n",
       "      <th>MonthlyCharges</th>\n",
       "      <th>TotalCharges</th>\n",
       "    </tr>\n",
       "  </thead>\n",
       "  <tbody>\n",
       "    <tr>\n",
       "      <th>0</th>\n",
       "      <td>0</td>\n",
       "      <td>1</td>\n",
       "      <td>0</td>\n",
       "      <td>0</td>\n",
       "      <td>0</td>\n",
       "      <td>0</td>\n",
       "      <td>0</td>\n",
       "      <td>1</td>\n",
       "      <td>29.85</td>\n",
       "      <td>2505</td>\n",
       "    </tr>\n",
       "    <tr>\n",
       "      <th>1</th>\n",
       "      <td>0</td>\n",
       "      <td>34</td>\n",
       "      <td>0</td>\n",
       "      <td>2</td>\n",
       "      <td>2</td>\n",
       "      <td>0</td>\n",
       "      <td>1</td>\n",
       "      <td>0</td>\n",
       "      <td>56.95</td>\n",
       "      <td>1466</td>\n",
       "    </tr>\n",
       "    <tr>\n",
       "      <th>2</th>\n",
       "      <td>0</td>\n",
       "      <td>2</td>\n",
       "      <td>0</td>\n",
       "      <td>2</td>\n",
       "      <td>0</td>\n",
       "      <td>0</td>\n",
       "      <td>0</td>\n",
       "      <td>1</td>\n",
       "      <td>53.85</td>\n",
       "      <td>157</td>\n",
       "    </tr>\n",
       "    <tr>\n",
       "      <th>3</th>\n",
       "      <td>0</td>\n",
       "      <td>45</td>\n",
       "      <td>0</td>\n",
       "      <td>2</td>\n",
       "      <td>2</td>\n",
       "      <td>2</td>\n",
       "      <td>1</td>\n",
       "      <td>0</td>\n",
       "      <td>42.30</td>\n",
       "      <td>1400</td>\n",
       "    </tr>\n",
       "    <tr>\n",
       "      <th>4</th>\n",
       "      <td>0</td>\n",
       "      <td>2</td>\n",
       "      <td>1</td>\n",
       "      <td>0</td>\n",
       "      <td>0</td>\n",
       "      <td>0</td>\n",
       "      <td>0</td>\n",
       "      <td>1</td>\n",
       "      <td>70.70</td>\n",
       "      <td>925</td>\n",
       "    </tr>\n",
       "  </tbody>\n",
       "</table>\n",
       "</div>"
      ],
      "text/plain": [
       "   SeniorCitizen  tenure  InternetService  OnlineSecurity  DeviceProtection  \\\n",
       "0              0       1                0               0                 0   \n",
       "1              0      34                0               2                 2   \n",
       "2              0       2                0               2                 0   \n",
       "3              0      45                0               2                 2   \n",
       "4              0       2                1               0                 0   \n",
       "\n",
       "   TechSupport  Contract  PaperlessBilling  MonthlyCharges  TotalCharges  \n",
       "0            0         0                 1           29.85          2505  \n",
       "1            0         1                 0           56.95          1466  \n",
       "2            0         0                 1           53.85           157  \n",
       "3            2         1                 0           42.30          1400  \n",
       "4            0         0                 1           70.70           925  "
      ]
     },
     "execution_count": 32,
     "metadata": {},
     "output_type": "execute_result"
    }
   ],
   "source": [
    "# Reassign X_new to x\n",
    "x = X_new\n",
    "x.head()"
   ]
  },
  {
   "cell_type": "code",
   "execution_count": 33,
   "metadata": {},
   "outputs": [
    {
     "data": {
      "text/plain": [
       "0    0\n",
       "1    0\n",
       "2    1\n",
       "3    0\n",
       "4    1\n",
       "Name: Churn, dtype: int64"
      ]
     },
     "execution_count": 33,
     "metadata": {},
     "output_type": "execute_result"
    }
   ],
   "source": [
    "#View y\n",
    "y.head()"
   ]
  },
  {
   "cell_type": "markdown",
   "metadata": {
    "id": "ugNgLpmakt5d"
   },
   "source": [
    "# Data Splitting"
   ]
  },
  {
   "cell_type": "code",
   "execution_count": 34,
   "metadata": {
    "id": "SX7IRsySBGdP"
   },
   "outputs": [],
   "source": [
    "# Random seed for reproducibility\n",
    "np.random.seed(42)\n",
    "\n",
    "# Split data into train & test set\n",
    "x_train, x_test, y_train, y_test = train_test_split(x, # independent variables\n",
    "                                                    y, # dependent variable\n",
    "                                                    test_size = 0.2) # percentage of data to use for test set"
   ]
  },
  {
   "cell_type": "code",
   "execution_count": 35,
   "metadata": {
    "colab": {
     "base_uri": "https://localhost:8080/"
    },
    "id": "FHXS-vz_ly38",
    "outputId": "b31ee308-cf5c-4869-ac58-938c119806dc"
   },
   "outputs": [
    {
     "data": {
      "text/plain": [
       "((5634, 10), (1409, 10), (5634,), (1409,))"
      ]
     },
     "execution_count": 35,
     "metadata": {},
     "output_type": "execute_result"
    }
   ],
   "source": [
    "x_train.shape, x_test.shape, y_train.shape, y_test.shape"
   ]
  },
  {
   "cell_type": "markdown",
   "metadata": {
    "id": "Y-whNwTKlEal"
   },
   "source": [
    "# Model selection"
   ]
  },
  {
   "cell_type": "code",
   "execution_count": 36,
   "metadata": {
    "id": "5Me5wEHlA0TT"
   },
   "outputs": [],
   "source": [
    "#Select model\n",
    "model = LogisticRegression()"
   ]
  },
  {
   "cell_type": "code",
   "execution_count": 37,
   "metadata": {
    "colab": {
     "base_uri": "https://localhost:8080/"
    },
    "id": "oIYpHLMYl5uK",
    "outputId": "563c3fb2-65ce-44a8-eda4-115713b2a16b"
   },
   "outputs": [
    {
     "data": {
      "text/plain": [
       "{'C': 1.0,\n",
       " 'class_weight': None,\n",
       " 'dual': False,\n",
       " 'fit_intercept': True,\n",
       " 'intercept_scaling': 1,\n",
       " 'l1_ratio': None,\n",
       " 'max_iter': 100,\n",
       " 'multi_class': 'auto',\n",
       " 'n_jobs': None,\n",
       " 'penalty': 'l2',\n",
       " 'random_state': None,\n",
       " 'solver': 'lbfgs',\n",
       " 'tol': 0.0001,\n",
       " 'verbose': 0,\n",
       " 'warm_start': False}"
      ]
     },
     "execution_count": 37,
     "metadata": {},
     "output_type": "execute_result"
    }
   ],
   "source": [
    "#Check model parameters\n",
    "model.get_params()"
   ]
  },
  {
   "cell_type": "code",
   "execution_count": 38,
   "metadata": {},
   "outputs": [],
   "source": [
    "# Increase the Maximum Iterations:\n",
    "model = LogisticRegression(max_iter=6000)"
   ]
  },
  {
   "cell_type": "markdown",
   "metadata": {
    "id": "L0vpRHAalLgu"
   },
   "source": [
    "# Model Training"
   ]
  },
  {
   "cell_type": "code",
   "execution_count": 39,
   "metadata": {
    "colab": {
     "base_uri": "https://localhost:8080/",
     "height": 213
    },
    "id": "CFgfZrdZlPUe",
    "outputId": "25186de0-0fe9-49d3-e601-a8067cab298b"
   },
   "outputs": [
    {
     "data": {
      "text/html": [
       "<style>#sk-container-id-1 {color: black;}#sk-container-id-1 pre{padding: 0;}#sk-container-id-1 div.sk-toggleable {background-color: white;}#sk-container-id-1 label.sk-toggleable__label {cursor: pointer;display: block;width: 100%;margin-bottom: 0;padding: 0.3em;box-sizing: border-box;text-align: center;}#sk-container-id-1 label.sk-toggleable__label-arrow:before {content: \"▸\";float: left;margin-right: 0.25em;color: #696969;}#sk-container-id-1 label.sk-toggleable__label-arrow:hover:before {color: black;}#sk-container-id-1 div.sk-estimator:hover label.sk-toggleable__label-arrow:before {color: black;}#sk-container-id-1 div.sk-toggleable__content {max-height: 0;max-width: 0;overflow: hidden;text-align: left;background-color: #f0f8ff;}#sk-container-id-1 div.sk-toggleable__content pre {margin: 0.2em;color: black;border-radius: 0.25em;background-color: #f0f8ff;}#sk-container-id-1 input.sk-toggleable__control:checked~div.sk-toggleable__content {max-height: 200px;max-width: 100%;overflow: auto;}#sk-container-id-1 input.sk-toggleable__control:checked~label.sk-toggleable__label-arrow:before {content: \"▾\";}#sk-container-id-1 div.sk-estimator input.sk-toggleable__control:checked~label.sk-toggleable__label {background-color: #d4ebff;}#sk-container-id-1 div.sk-label input.sk-toggleable__control:checked~label.sk-toggleable__label {background-color: #d4ebff;}#sk-container-id-1 input.sk-hidden--visually {border: 0;clip: rect(1px 1px 1px 1px);clip: rect(1px, 1px, 1px, 1px);height: 1px;margin: -1px;overflow: hidden;padding: 0;position: absolute;width: 1px;}#sk-container-id-1 div.sk-estimator {font-family: monospace;background-color: #f0f8ff;border: 1px dotted black;border-radius: 0.25em;box-sizing: border-box;margin-bottom: 0.5em;}#sk-container-id-1 div.sk-estimator:hover {background-color: #d4ebff;}#sk-container-id-1 div.sk-parallel-item::after {content: \"\";width: 100%;border-bottom: 1px solid gray;flex-grow: 1;}#sk-container-id-1 div.sk-label:hover label.sk-toggleable__label {background-color: #d4ebff;}#sk-container-id-1 div.sk-serial::before {content: \"\";position: absolute;border-left: 1px solid gray;box-sizing: border-box;top: 0;bottom: 0;left: 50%;z-index: 0;}#sk-container-id-1 div.sk-serial {display: flex;flex-direction: column;align-items: center;background-color: white;padding-right: 0.2em;padding-left: 0.2em;position: relative;}#sk-container-id-1 div.sk-item {position: relative;z-index: 1;}#sk-container-id-1 div.sk-parallel {display: flex;align-items: stretch;justify-content: center;background-color: white;position: relative;}#sk-container-id-1 div.sk-item::before, #sk-container-id-1 div.sk-parallel-item::before {content: \"\";position: absolute;border-left: 1px solid gray;box-sizing: border-box;top: 0;bottom: 0;left: 50%;z-index: -1;}#sk-container-id-1 div.sk-parallel-item {display: flex;flex-direction: column;z-index: 1;position: relative;background-color: white;}#sk-container-id-1 div.sk-parallel-item:first-child::after {align-self: flex-end;width: 50%;}#sk-container-id-1 div.sk-parallel-item:last-child::after {align-self: flex-start;width: 50%;}#sk-container-id-1 div.sk-parallel-item:only-child::after {width: 0;}#sk-container-id-1 div.sk-dashed-wrapped {border: 1px dashed gray;margin: 0 0.4em 0.5em 0.4em;box-sizing: border-box;padding-bottom: 0.4em;background-color: white;}#sk-container-id-1 div.sk-label label {font-family: monospace;font-weight: bold;display: inline-block;line-height: 1.2em;}#sk-container-id-1 div.sk-label-container {text-align: center;}#sk-container-id-1 div.sk-container {/* jupyter's `normalize.less` sets `[hidden] { display: none; }` but bootstrap.min.css set `[hidden] { display: none !important; }` so we also need the `!important` here to be able to override the default hidden behavior on the sphinx rendered scikit-learn.org. See: https://github.com/scikit-learn/scikit-learn/issues/21755 */display: inline-block !important;position: relative;}#sk-container-id-1 div.sk-text-repr-fallback {display: none;}</style><div id=\"sk-container-id-1\" class=\"sk-top-container\"><div class=\"sk-text-repr-fallback\"><pre>LogisticRegression(max_iter=6000)</pre><b>In a Jupyter environment, please rerun this cell to show the HTML representation or trust the notebook. <br />On GitHub, the HTML representation is unable to render, please try loading this page with nbviewer.org.</b></div><div class=\"sk-container\" hidden><div class=\"sk-item\"><div class=\"sk-estimator sk-toggleable\"><input class=\"sk-toggleable__control sk-hidden--visually\" id=\"sk-estimator-id-1\" type=\"checkbox\" checked><label for=\"sk-estimator-id-1\" class=\"sk-toggleable__label sk-toggleable__label-arrow\">LogisticRegression</label><div class=\"sk-toggleable__content\"><pre>LogisticRegression(max_iter=6000)</pre></div></div></div></div></div>"
      ],
      "text/plain": [
       "LogisticRegression(max_iter=6000)"
      ]
     },
     "execution_count": 39,
     "metadata": {},
     "output_type": "execute_result"
    }
   ],
   "source": [
    "# Fit the model\n",
    "model.fit(x_train, y_train)"
   ]
  },
  {
   "cell_type": "markdown",
   "metadata": {},
   "source": [
    "# Prediction and Evaluation"
   ]
  },
  {
   "cell_type": "code",
   "execution_count": 40,
   "metadata": {
    "colab": {
     "base_uri": "https://localhost:8080/"
    },
    "id": "-uxSSMPtlXr4",
    "outputId": "e70ddb8a-c3e5-497a-eb2c-fdeacb3fa72e"
   },
   "outputs": [
    {
     "data": {
      "text/plain": [
       "0.7955271565495208"
      ]
     },
     "execution_count": 40,
     "metadata": {},
     "output_type": "execute_result"
    }
   ],
   "source": [
    "# Evaluate the model on the training set\n",
    "model.score(x_train, y_train)"
   ]
  },
  {
   "cell_type": "code",
   "execution_count": 41,
   "metadata": {
    "colab": {
     "base_uri": "https://localhost:8080/"
    },
    "id": "i_5jR2kwmVBE",
    "outputId": "2ea53479-70f1-4876-a0cc-97035800de91"
   },
   "outputs": [
    {
     "data": {
      "text/plain": [
       "0.815471965933286"
      ]
     },
     "execution_count": 41,
     "metadata": {},
     "output_type": "execute_result"
    }
   ],
   "source": [
    "# Evaluate the model on the test set\n",
    "model.score(x_test, y_test)"
   ]
  },
  {
   "cell_type": "code",
   "execution_count": 42,
   "metadata": {
    "id": "6FL28rs2A5s3"
   },
   "outputs": [
    {
     "data": {
      "text/plain": [
       "array([0, 0, 0, ..., 0, 0, 0], dtype=int64)"
      ]
     },
     "execution_count": 42,
     "metadata": {},
     "output_type": "execute_result"
    }
   ],
   "source": [
    "# Use the model to make a prediction on the test data (further evaluation)\n",
    "y_preds = model.predict(x_test)\n",
    "y_preds"
   ]
  },
  {
   "cell_type": "code",
   "execution_count": 43,
   "metadata": {
    "colab": {
     "base_uri": "https://localhost:8080/"
    },
    "id": "lMt689ZRmZZg",
    "outputId": "3bcea794-013c-404c-edf4-ca9e3915b205"
   },
   "outputs": [
    {
     "name": "stdout",
     "output_type": "stream",
     "text": [
      "              precision    recall  f1-score   support\n",
      "\n",
      "           0       0.86      0.90      0.88      1036\n",
      "           1       0.67      0.59      0.63       373\n",
      "\n",
      "    accuracy                           0.82      1409\n",
      "   macro avg       0.77      0.74      0.75      1409\n",
      "weighted avg       0.81      0.82      0.81      1409\n",
      "\n"
     ]
    }
   ],
   "source": [
    "#Print classification report\n",
    "print(classification_report(y_test, y_preds))"
   ]
  },
  {
   "cell_type": "code",
   "execution_count": 44,
   "metadata": {
    "colab": {
     "base_uri": "https://localhost:8080/"
    },
    "id": "tjeY9pNkoc_M",
    "outputId": "07cd9838-2019-4ecf-d65b-8745d2758fff"
   },
   "outputs": [
    {
     "name": "stdout",
     "output_type": "stream",
     "text": [
      "[[930 106]\n",
      " [154 219]]\n"
     ]
    }
   ],
   "source": [
    "#Evaluate the model with confusion matrix\n",
    "print(confusion_matrix(y_test, y_preds))"
   ]
  },
  {
   "cell_type": "code",
   "execution_count": 45,
   "metadata": {
    "colab": {
     "base_uri": "https://localhost:8080/",
     "height": 319
    },
    "id": "gosU76M_oozJ",
    "outputId": "9703a9d2-ea95-4640-9a81-5f0105f98708"
   },
   "outputs": [
    {
     "data": {
      "text/html": [
       "<div>\n",
       "<style scoped>\n",
       "    .dataframe tbody tr th:only-of-type {\n",
       "        vertical-align: middle;\n",
       "    }\n",
       "\n",
       "    .dataframe tbody tr th {\n",
       "        vertical-align: top;\n",
       "    }\n",
       "\n",
       "    .dataframe thead th {\n",
       "        text-align: right;\n",
       "    }\n",
       "</style>\n",
       "<table border=\"1\" class=\"dataframe\">\n",
       "  <thead>\n",
       "    <tr style=\"text-align: right;\">\n",
       "      <th>Predicted Labels</th>\n",
       "      <th>0</th>\n",
       "      <th>1</th>\n",
       "    </tr>\n",
       "    <tr>\n",
       "      <th>Actual Labels</th>\n",
       "      <th></th>\n",
       "      <th></th>\n",
       "    </tr>\n",
       "  </thead>\n",
       "  <tbody>\n",
       "    <tr>\n",
       "      <th>0</th>\n",
       "      <td>930</td>\n",
       "      <td>106</td>\n",
       "    </tr>\n",
       "    <tr>\n",
       "      <th>1</th>\n",
       "      <td>154</td>\n",
       "      <td>219</td>\n",
       "    </tr>\n",
       "  </tbody>\n",
       "</table>\n",
       "</div>"
      ],
      "text/plain": [
       "Predicted Labels    0    1\n",
       "Actual Labels             \n",
       "0                 930  106\n",
       "1                 154  219"
      ]
     },
     "execution_count": 45,
     "metadata": {},
     "output_type": "execute_result"
    }
   ],
   "source": [
    "#visualize confusion matrix with pd.crosstab()\n",
    "pd.crosstab(y_test,\n",
    "           y_preds,\n",
    "           rownames=[\"Actual Labels\"],\n",
    "           colnames=[\"Predicted Labels\"])"
   ]
  },
  {
   "cell_type": "code",
   "execution_count": 46,
   "metadata": {},
   "outputs": [
    {
     "data": {
      "image/png": "[encoded data removed]",
      "text/plain": [
       "<Figure size 360x360 with 1 Axes>"
      ]
     },
     "metadata": {},
     "output_type": "display_data"
    }
   ],
   "source": [
    "def plot_conf_mat(y_test, y_preds):\n",
    "    \"\"\"\n",
    "    Plots a confusion matrix using Seaborn's heatmap().\n",
    "    \"\"\"\n",
    "    fig, ax = plt.subplots(figsize=(5, 5))\n",
    "    ax = sns.heatmap(confusion_matrix(y_test, y_preds),\n",
    "                     annot=True, fmt=\"d\",\n",
    "                     cbar=False)\n",
    "    plt.xlabel(\"true label\")\n",
    "    plt.ylabel(\"predicted label\")\n",
    "    \n",
    "plot_conf_mat(y_test, y_preds)"
   ]
  },
  {
   "cell_type": "code",
   "execution_count": 47,
   "metadata": {},
   "outputs": [
    {
     "data": {
      "text/plain": [
       "array([[0.53575508, 0.46424492],\n",
       "       [0.86256183, 0.13743817],\n",
       "       [0.9910516 , 0.0089484 ],\n",
       "       [0.41002987, 0.58997013],\n",
       "       [0.98760581, 0.01239419],\n",
       "       [0.63019199, 0.36980801],\n",
       "       [0.9572874 , 0.0427126 ],\n",
       "       [0.99238345, 0.00761655],\n",
       "       [0.97760021, 0.02239979],\n",
       "       [0.78135205, 0.21864795]])"
      ]
     },
     "execution_count": 47,
     "metadata": {},
     "output_type": "execute_result"
    }
   ],
   "source": [
    "#Evaluate with ROC/AUC Curve\n",
    "y_probs = model.predict_proba(x_test)\n",
    "\n",
    "y_probs[:10]"
   ]
  },
  {
   "cell_type": "code",
   "execution_count": 48,
   "metadata": {},
   "outputs": [
    {
     "data": {
      "text/plain": [
       "array([0.46424492, 0.13743817, 0.0089484 , 0.58997013, 0.01239419,\n",
       "       0.36980801, 0.0427126 , 0.00761655, 0.02239979, 0.21864795])"
      ]
     },
     "execution_count": 48,
     "metadata": {},
     "output_type": "execute_result"
    }
   ],
   "source": [
    "y_probs_positive = y_probs[:,1]\n",
    "y_probs_positive[:10]"
   ]
  },
  {
   "cell_type": "code",
   "execution_count": 49,
   "metadata": {},
   "outputs": [],
   "source": [
    "fpr, tpr, thresholds = roc_curve(y_test,y_probs_positive)"
   ]
  },
  {
   "cell_type": "code",
   "execution_count": 50,
   "metadata": {},
   "outputs": [
    {
     "data": {
      "image/png": "[encoded data removed]",
      "text/plain": [
       "<Figure size 432x288 with 1 Axes>"
      ]
     },
     "metadata": {},
     "output_type": "display_data"
    }
   ],
   "source": [
    "#Visualise Roc curve\n",
    "def plot_roc_curve(fpr, tpr):\n",
    "    \"\"\"\n",
    "    Plots a ROC curve given the false postive rate(fpr) \n",
    "    and true positive rate (tpr) of model.\n",
    "    \"\"\"\n",
    "    \n",
    "    plt.plot(fpr, tpr, color=\"red\", label=\"ROC\")\n",
    "    plt.xlabel(\"False positive rate (fpr)\")\n",
    "    plt.ylabel(\"True positive rate (tpr)\")\n",
    "    plt.title(\"Receiver Operating Characteristic (ROC) Curve\")\n",
    "    plt.legend()\n",
    "    plt.show()\n",
    "    \n",
    "plot_roc_curve(fpr, tpr)"
   ]
  },
  {
   "cell_type": "markdown",
   "metadata": {
    "id": "LMuFOihinBjf"
   },
   "source": [
    "# Tuning and Optimization"
   ]
  },
  {
   "cell_type": "code",
   "execution_count": 51,
   "metadata": {},
   "outputs": [
    {
     "data": {
      "text/plain": [
       "{'C': 1.0,\n",
       " 'class_weight': None,\n",
       " 'dual': False,\n",
       " 'fit_intercept': True,\n",
       " 'intercept_scaling': 1,\n",
       " 'l1_ratio': None,\n",
       " 'max_iter': 6000,\n",
       " 'multi_class': 'auto',\n",
       " 'n_jobs': None,\n",
       " 'penalty': 'l2',\n",
       " 'random_state': None,\n",
       " 'solver': 'lbfgs',\n",
       " 'tol': 0.0001,\n",
       " 'verbose': 0,\n",
       " 'warm_start': False}"
      ]
     },
     "execution_count": 51,
     "metadata": {},
     "output_type": "execute_result"
    }
   ],
   "source": [
    "#Check model parameters\n",
    "model.get_params()"
   ]
  },
  {
   "cell_type": "markdown",
   "metadata": {},
   "source": [
    "#### Tuning models with GridSearchCV"
   ]
  },
  {
   "cell_type": "code",
   "execution_count": 52,
   "metadata": {
    "colab": {
     "base_uri": "https://localhost:8080/"
    },
    "id": "oM0PPdqjn0eg",
    "outputId": "6c5d0eb3-332a-4d8f-a6ae-9204743aa05c"
   },
   "outputs": [
    {
     "name": "stdout",
     "output_type": "stream",
     "text": [
      "Fitting 5 folds for each of 60 candidates, totalling 300 fits\n"
     ]
    }
   ],
   "source": [
    "#Tuning models with with GridSearchCV\n",
    "# Different LogisticRegression hyperparameters\n",
    "log_reg_grid = {\"C\": np.logspace(-4, 4, 20),\n",
    "                \"max_iter\": (60, 100, 6000),\n",
    "                \"solver\": [\"liblinear\"]}\n",
    "\n",
    "# Setup random seed\n",
    "np.random.seed(42)\n",
    "\n",
    "#  Setup grid hyperparameter search for LogisticRegression\n",
    "gs_log_reg = GridSearchCV(LogisticRegression(),\n",
    "                          param_grid=log_reg_grid,\n",
    "                          cv=5,\n",
    "                          verbose=True)\n",
    "\n",
    "# Fit grid hyperparameter search model\n",
    "gs_log_reg.fit(x_train, y_train);"
   ]
  },
  {
   "cell_type": "code",
   "execution_count": 53,
   "metadata": {
    "colab": {
     "base_uri": "https://localhost:8080/"
    },
    "id": "sG3qEvxioFww",
    "outputId": "a4832aec-b7ca-49e0-cd74-f4b52599c141"
   },
   "outputs": [
    {
     "data": {
      "text/plain": [
       "{'C': 0.03359818286283781, 'max_iter': 60, 'solver': 'liblinear'}"
      ]
     },
     "execution_count": 53,
     "metadata": {},
     "output_type": "execute_result"
    }
   ],
   "source": [
    "# Check the best parameters\n",
    "gs_log_reg.best_params_"
   ]
  },
  {
   "cell_type": "code",
   "execution_count": 54,
   "metadata": {},
   "outputs": [
    {
     "data": {
      "text/html": [
       "<style>#sk-container-id-2 {color: black;}#sk-container-id-2 pre{padding: 0;}#sk-container-id-2 div.sk-toggleable {background-color: white;}#sk-container-id-2 label.sk-toggleable__label {cursor: pointer;display: block;width: 100%;margin-bottom: 0;padding: 0.3em;box-sizing: border-box;text-align: center;}#sk-container-id-2 label.sk-toggleable__label-arrow:before {content: \"▸\";float: left;margin-right: 0.25em;color: #696969;}#sk-container-id-2 label.sk-toggleable__label-arrow:hover:before {color: black;}#sk-container-id-2 div.sk-estimator:hover label.sk-toggleable__label-arrow:before {color: black;}#sk-container-id-2 div.sk-toggleable__content {max-height: 0;max-width: 0;overflow: hidden;text-align: left;background-color: #f0f8ff;}#sk-container-id-2 div.sk-toggleable__content pre {margin: 0.2em;color: black;border-radius: 0.25em;background-color: #f0f8ff;}#sk-container-id-2 input.sk-toggleable__control:checked~div.sk-toggleable__content {max-height: 200px;max-width: 100%;overflow: auto;}#sk-container-id-2 input.sk-toggleable__control:checked~label.sk-toggleable__label-arrow:before {content: \"▾\";}#sk-container-id-2 div.sk-estimator input.sk-toggleable__control:checked~label.sk-toggleable__label {background-color: #d4ebff;}#sk-container-id-2 div.sk-label input.sk-toggleable__control:checked~label.sk-toggleable__label {background-color: #d4ebff;}#sk-container-id-2 input.sk-hidden--visually {border: 0;clip: rect(1px 1px 1px 1px);clip: rect(1px, 1px, 1px, 1px);height: 1px;margin: -1px;overflow: hidden;padding: 0;position: absolute;width: 1px;}#sk-container-id-2 div.sk-estimator {font-family: monospace;background-color: #f0f8ff;border: 1px dotted black;border-radius: 0.25em;box-sizing: border-box;margin-bottom: 0.5em;}#sk-container-id-2 div.sk-estimator:hover {background-color: #d4ebff;}#sk-container-id-2 div.sk-parallel-item::after {content: \"\";width: 100%;border-bottom: 1px solid gray;flex-grow: 1;}#sk-container-id-2 div.sk-label:hover label.sk-toggleable__label {background-color: #d4ebff;}#sk-container-id-2 div.sk-serial::before {content: \"\";position: absolute;border-left: 1px solid gray;box-sizing: border-box;top: 0;bottom: 0;left: 50%;z-index: 0;}#sk-container-id-2 div.sk-serial {display: flex;flex-direction: column;align-items: center;background-color: white;padding-right: 0.2em;padding-left: 0.2em;position: relative;}#sk-container-id-2 div.sk-item {position: relative;z-index: 1;}#sk-container-id-2 div.sk-parallel {display: flex;align-items: stretch;justify-content: center;background-color: white;position: relative;}#sk-container-id-2 div.sk-item::before, #sk-container-id-2 div.sk-parallel-item::before {content: \"\";position: absolute;border-left: 1px solid gray;box-sizing: border-box;top: 0;bottom: 0;left: 50%;z-index: -1;}#sk-container-id-2 div.sk-parallel-item {display: flex;flex-direction: column;z-index: 1;position: relative;background-color: white;}#sk-container-id-2 div.sk-parallel-item:first-child::after {align-self: flex-end;width: 50%;}#sk-container-id-2 div.sk-parallel-item:last-child::after {align-self: flex-start;width: 50%;}#sk-container-id-2 div.sk-parallel-item:only-child::after {width: 0;}#sk-container-id-2 div.sk-dashed-wrapped {border: 1px dashed gray;margin: 0 0.4em 0.5em 0.4em;box-sizing: border-box;padding-bottom: 0.4em;background-color: white;}#sk-container-id-2 div.sk-label label {font-family: monospace;font-weight: bold;display: inline-block;line-height: 1.2em;}#sk-container-id-2 div.sk-label-container {text-align: center;}#sk-container-id-2 div.sk-container {/* jupyter's `normalize.less` sets `[hidden] { display: none; }` but bootstrap.min.css set `[hidden] { display: none !important; }` so we also need the `!important` here to be able to override the default hidden behavior on the sphinx rendered scikit-learn.org. See: https://github.com/scikit-learn/scikit-learn/issues/21755 */display: inline-block !important;position: relative;}#sk-container-id-2 div.sk-text-repr-fallback {display: none;}</style><div id=\"sk-container-id-2\" class=\"sk-top-container\"><div class=\"sk-text-repr-fallback\"><pre>LogisticRegression(C=0.03359818286283781, max_iter=60, solver=&#x27;liblinear&#x27;)</pre><b>In a Jupyter environment, please rerun this cell to show the HTML representation or trust the notebook. <br />On GitHub, the HTML representation is unable to render, please try loading this page with nbviewer.org.</b></div><div class=\"sk-container\" hidden><div class=\"sk-item\"><div class=\"sk-estimator sk-toggleable\"><input class=\"sk-toggleable__control sk-hidden--visually\" id=\"sk-estimator-id-2\" type=\"checkbox\" checked><label for=\"sk-estimator-id-2\" class=\"sk-toggleable__label sk-toggleable__label-arrow\">LogisticRegression</label><div class=\"sk-toggleable__content\"><pre>LogisticRegression(C=0.03359818286283781, max_iter=60, solver=&#x27;liblinear&#x27;)</pre></div></div></div></div></div>"
      ],
      "text/plain": [
       "LogisticRegression(C=0.03359818286283781, max_iter=60, solver='liblinear')"
      ]
     },
     "execution_count": 54,
     "metadata": {},
     "output_type": "execute_result"
    }
   ],
   "source": [
    "# Instantiate a LogisticRegression classifier using the best hyperparameters from RandomizedSearchCV\n",
    "gsmodel = LogisticRegression(solver=\"liblinear\", C=0.03359818286283781, max_iter=60)\n",
    "\n",
    "# Fit the new instance of LogisticRegression with the best hyperparameters on the training data \n",
    "gsmodel.fit(x_train, y_train)"
   ]
  },
  {
   "cell_type": "code",
   "execution_count": 55,
   "metadata": {},
   "outputs": [
    {
     "data": {
      "text/plain": [
       "0.8147622427253371"
      ]
     },
     "execution_count": 55,
     "metadata": {},
     "output_type": "execute_result"
    }
   ],
   "source": [
    "# Evaluate the model on the test set\n",
    "gsmodel.score(x_test, y_test)"
   ]
  },
  {
   "cell_type": "code",
   "execution_count": 56,
   "metadata": {},
   "outputs": [
    {
     "data": {
      "text/plain": [
       "array([0, 0, 0, ..., 0, 0, 0], dtype=int64)"
      ]
     },
     "execution_count": 56,
     "metadata": {},
     "output_type": "execute_result"
    }
   ],
   "source": [
    "# Use the model to make a prediction on the test data (further evaluation)\n",
    "y_preds = gsmodel.predict(x_test)\n",
    "y_preds"
   ]
  },
  {
   "cell_type": "code",
   "execution_count": 57,
   "metadata": {},
   "outputs": [
    {
     "name": "stdout",
     "output_type": "stream",
     "text": [
      "              precision    recall  f1-score   support\n",
      "\n",
      "           0       0.86      0.90      0.88      1036\n",
      "           1       0.68      0.58      0.62       373\n",
      "\n",
      "    accuracy                           0.81      1409\n",
      "   macro avg       0.77      0.74      0.75      1409\n",
      "weighted avg       0.81      0.81      0.81      1409\n",
      "\n"
     ]
    }
   ],
   "source": [
    "#Print classification report\n",
    "print(classification_report(y_test, y_preds))"
   ]
  },
  {
   "cell_type": "markdown",
   "metadata": {},
   "source": [
    "The difference between the precision, recall, and F1-score for Class 0 and Class 1 in the classification report shows that the model struggles to accurately identify churned customers. "
   ]
  },
  {
   "cell_type": "code",
   "execution_count": 58,
   "metadata": {},
   "outputs": [
    {
     "data": {
      "text/plain": [
       "0    4138\n",
       "1    1496\n",
       "Name: Churn, dtype: int64"
      ]
     },
     "execution_count": 58,
     "metadata": {},
     "output_type": "execute_result"
    }
   ],
   "source": [
    "#View value count for tagert variable in training data\n",
    "y_train.value_counts()"
   ]
  },
  {
   "cell_type": "markdown",
   "metadata": {},
   "source": [
    "*Using SMOTEEN to correct class imbalance (https://imbalanced-learn.org/stable/references/generated/imblearn.combine.SMOTEENN.html)*"
   ]
  },
  {
   "cell_type": "code",
   "execution_count": 59,
   "metadata": {},
   "outputs": [],
   "source": [
    "# Instantiate the SMOTEENN sampler\n",
    "sampler = SMOTEENN(random_state=42)\n",
    "\n",
    "# Resample data\n",
    "x_resampled, y_resampled = sampler.fit_resample(x, y)"
   ]
  },
  {
   "cell_type": "code",
   "execution_count": 60,
   "metadata": {},
   "outputs": [],
   "source": [
    "#splitting resampled data\n",
    "X_train, X_test, Y_train, Y_test = train_test_split(x_resampled, y_resampled,test_size=0.2)"
   ]
  },
  {
   "cell_type": "code",
   "execution_count": 61,
   "metadata": {},
   "outputs": [
    {
     "data": {
      "text/html": [
       "<style>#sk-container-id-3 {color: black;}#sk-container-id-3 pre{padding: 0;}#sk-container-id-3 div.sk-toggleable {background-color: white;}#sk-container-id-3 label.sk-toggleable__label {cursor: pointer;display: block;width: 100%;margin-bottom: 0;padding: 0.3em;box-sizing: border-box;text-align: center;}#sk-container-id-3 label.sk-toggleable__label-arrow:before {content: \"▸\";float: left;margin-right: 0.25em;color: #696969;}#sk-container-id-3 label.sk-toggleable__label-arrow:hover:before {color: black;}#sk-container-id-3 div.sk-estimator:hover label.sk-toggleable__label-arrow:before {color: black;}#sk-container-id-3 div.sk-toggleable__content {max-height: 0;max-width: 0;overflow: hidden;text-align: left;background-color: #f0f8ff;}#sk-container-id-3 div.sk-toggleable__content pre {margin: 0.2em;color: black;border-radius: 0.25em;background-color: #f0f8ff;}#sk-container-id-3 input.sk-toggleable__control:checked~div.sk-toggleable__content {max-height: 200px;max-width: 100%;overflow: auto;}#sk-container-id-3 input.sk-toggleable__control:checked~label.sk-toggleable__label-arrow:before {content: \"▾\";}#sk-container-id-3 div.sk-estimator input.sk-toggleable__control:checked~label.sk-toggleable__label {background-color: #d4ebff;}#sk-container-id-3 div.sk-label input.sk-toggleable__control:checked~label.sk-toggleable__label {background-color: #d4ebff;}#sk-container-id-3 input.sk-hidden--visually {border: 0;clip: rect(1px 1px 1px 1px);clip: rect(1px, 1px, 1px, 1px);height: 1px;margin: -1px;overflow: hidden;padding: 0;position: absolute;width: 1px;}#sk-container-id-3 div.sk-estimator {font-family: monospace;background-color: #f0f8ff;border: 1px dotted black;border-radius: 0.25em;box-sizing: border-box;margin-bottom: 0.5em;}#sk-container-id-3 div.sk-estimator:hover {background-color: #d4ebff;}#sk-container-id-3 div.sk-parallel-item::after {content: \"\";width: 100%;border-bottom: 1px solid gray;flex-grow: 1;}#sk-container-id-3 div.sk-label:hover label.sk-toggleable__label {background-color: #d4ebff;}#sk-container-id-3 div.sk-serial::before {content: \"\";position: absolute;border-left: 1px solid gray;box-sizing: border-box;top: 0;bottom: 0;left: 50%;z-index: 0;}#sk-container-id-3 div.sk-serial {display: flex;flex-direction: column;align-items: center;background-color: white;padding-right: 0.2em;padding-left: 0.2em;position: relative;}#sk-container-id-3 div.sk-item {position: relative;z-index: 1;}#sk-container-id-3 div.sk-parallel {display: flex;align-items: stretch;justify-content: center;background-color: white;position: relative;}#sk-container-id-3 div.sk-item::before, #sk-container-id-3 div.sk-parallel-item::before {content: \"\";position: absolute;border-left: 1px solid gray;box-sizing: border-box;top: 0;bottom: 0;left: 50%;z-index: -1;}#sk-container-id-3 div.sk-parallel-item {display: flex;flex-direction: column;z-index: 1;position: relative;background-color: white;}#sk-container-id-3 div.sk-parallel-item:first-child::after {align-self: flex-end;width: 50%;}#sk-container-id-3 div.sk-parallel-item:last-child::after {align-self: flex-start;width: 50%;}#sk-container-id-3 div.sk-parallel-item:only-child::after {width: 0;}#sk-container-id-3 div.sk-dashed-wrapped {border: 1px dashed gray;margin: 0 0.4em 0.5em 0.4em;box-sizing: border-box;padding-bottom: 0.4em;background-color: white;}#sk-container-id-3 div.sk-label label {font-family: monospace;font-weight: bold;display: inline-block;line-height: 1.2em;}#sk-container-id-3 div.sk-label-container {text-align: center;}#sk-container-id-3 div.sk-container {/* jupyter's `normalize.less` sets `[hidden] { display: none; }` but bootstrap.min.css set `[hidden] { display: none !important; }` so we also need the `!important` here to be able to override the default hidden behavior on the sphinx rendered scikit-learn.org. See: https://github.com/scikit-learn/scikit-learn/issues/21755 */display: inline-block !important;position: relative;}#sk-container-id-3 div.sk-text-repr-fallback {display: none;}</style><div id=\"sk-container-id-3\" class=\"sk-top-container\"><div class=\"sk-text-repr-fallback\"><pre>LogisticRegression(C=0.03359818286283781, max_iter=60, solver=&#x27;liblinear&#x27;)</pre><b>In a Jupyter environment, please rerun this cell to show the HTML representation or trust the notebook. <br />On GitHub, the HTML representation is unable to render, please try loading this page with nbviewer.org.</b></div><div class=\"sk-container\" hidden><div class=\"sk-item\"><div class=\"sk-estimator sk-toggleable\"><input class=\"sk-toggleable__control sk-hidden--visually\" id=\"sk-estimator-id-3\" type=\"checkbox\" checked><label for=\"sk-estimator-id-3\" class=\"sk-toggleable__label sk-toggleable__label-arrow\">LogisticRegression</label><div class=\"sk-toggleable__content\"><pre>LogisticRegression(C=0.03359818286283781, max_iter=60, solver=&#x27;liblinear&#x27;)</pre></div></div></div></div></div>"
      ],
      "text/plain": [
       "LogisticRegression(C=0.03359818286283781, max_iter=60, solver='liblinear')"
      ]
     },
     "execution_count": 61,
     "metadata": {},
     "output_type": "execute_result"
    }
   ],
   "source": [
    "#fitting resampled data to model\n",
    "gsmodel.fit(X_train, Y_train)"
   ]
  },
  {
   "cell_type": "code",
   "execution_count": 62,
   "metadata": {},
   "outputs": [
    {
     "data": {
      "text/plain": [
       "0.9133261105092091"
      ]
     },
     "execution_count": 62,
     "metadata": {},
     "output_type": "execute_result"
    }
   ],
   "source": [
    "# Evaluate the model on the training set\n",
    "gsmodel.score(X_train, Y_train)"
   ]
  },
  {
   "cell_type": "code",
   "execution_count": 63,
   "metadata": {},
   "outputs": [
    {
     "data": {
      "text/plain": [
       "0.9003466204506065"
      ]
     },
     "execution_count": 63,
     "metadata": {},
     "output_type": "execute_result"
    }
   ],
   "source": [
    "# Evaluate the model on the test set\n",
    "gsmodel.score(X_test, Y_test)"
   ]
  },
  {
   "cell_type": "code",
   "execution_count": 64,
   "metadata": {},
   "outputs": [
    {
     "data": {
      "text/plain": [
       "array([0, 0, 1, ..., 0, 1, 0], dtype=int64)"
      ]
     },
     "execution_count": 64,
     "metadata": {},
     "output_type": "execute_result"
    }
   ],
   "source": [
    "# Use the model to make a prediction on the test data\n",
    "new_preds = gsmodel.predict(X_test)\n",
    "new_preds"
   ]
  },
  {
   "cell_type": "code",
   "execution_count": 65,
   "metadata": {},
   "outputs": [
    {
     "name": "stdout",
     "output_type": "stream",
     "text": [
      "              precision    recall  f1-score   support\n",
      "\n",
      "           0       0.91      0.89      0.90       565\n",
      "           1       0.89      0.91      0.90       589\n",
      "\n",
      "    accuracy                           0.90      1154\n",
      "   macro avg       0.90      0.90      0.90      1154\n",
      "weighted avg       0.90      0.90      0.90      1154\n",
      "\n"
     ]
    }
   ],
   "source": [
    "#Print classification report\n",
    "print(classification_report(Y_test, new_preds))"
   ]
  },
  {
   "cell_type": "code",
   "execution_count": 66,
   "metadata": {},
   "outputs": [
    {
     "name": "stdout",
     "output_type": "stream",
     "text": [
      "[[501  64]\n",
      " [ 51 538]]\n"
     ]
    }
   ],
   "source": [
    "#Evaluate the model with confusion matrix\n",
    "print(confusion_matrix(Y_test, new_preds))"
   ]
  },
  {
   "cell_type": "code",
   "execution_count": 67,
   "metadata": {},
   "outputs": [
    {
     "data": {
      "text/html": [
       "<div>\n",
       "<style scoped>\n",
       "    .dataframe tbody tr th:only-of-type {\n",
       "        vertical-align: middle;\n",
       "    }\n",
       "\n",
       "    .dataframe tbody tr th {\n",
       "        vertical-align: top;\n",
       "    }\n",
       "\n",
       "    .dataframe thead th {\n",
       "        text-align: right;\n",
       "    }\n",
       "</style>\n",
       "<table border=\"1\" class=\"dataframe\">\n",
       "  <thead>\n",
       "    <tr style=\"text-align: right;\">\n",
       "      <th>Predicted Labels</th>\n",
       "      <th>0</th>\n",
       "      <th>1</th>\n",
       "    </tr>\n",
       "    <tr>\n",
       "      <th>Actual Labels</th>\n",
       "      <th></th>\n",
       "      <th></th>\n",
       "    </tr>\n",
       "  </thead>\n",
       "  <tbody>\n",
       "    <tr>\n",
       "      <th>0</th>\n",
       "      <td>501</td>\n",
       "      <td>64</td>\n",
       "    </tr>\n",
       "    <tr>\n",
       "      <th>1</th>\n",
       "      <td>51</td>\n",
       "      <td>538</td>\n",
       "    </tr>\n",
       "  </tbody>\n",
       "</table>\n",
       "</div>"
      ],
      "text/plain": [
       "Predicted Labels    0    1\n",
       "Actual Labels             \n",
       "0                 501   64\n",
       "1                  51  538"
      ]
     },
     "execution_count": 67,
     "metadata": {},
     "output_type": "execute_result"
    }
   ],
   "source": [
    "#visualize confusion matrix with pd.crosstab()\n",
    "pd.crosstab(Y_test,\n",
    "           new_preds,\n",
    "           rownames=[\"Actual Labels\"],\n",
    "           colnames=[\"Predicted Labels\"])"
   ]
  },
  {
   "cell_type": "code",
   "execution_count": 68,
   "metadata": {},
   "outputs": [
    {
     "data": {
      "text/plain": [
       "array([[0.92779094, 0.07220906],\n",
       "       [0.67072724, 0.32927276],\n",
       "       [0.04398942, 0.95601058],\n",
       "       [0.98799682, 0.01200318],\n",
       "       [0.0114991 , 0.9885009 ],\n",
       "       [0.98890349, 0.01109651],\n",
       "       [0.1779264 , 0.8220736 ],\n",
       "       [0.97862102, 0.02137898],\n",
       "       [0.98767506, 0.01232494],\n",
       "       [0.01969537, 0.98030463]])"
      ]
     },
     "execution_count": 68,
     "metadata": {},
     "output_type": "execute_result"
    }
   ],
   "source": [
    "#Evaluate with ROC/AUC Curve\n",
    "new_probs = gsmodel.predict_proba(X_test)\n",
    "\n",
    "new_probs[:10]"
   ]
  },
  {
   "cell_type": "code",
   "execution_count": 69,
   "metadata": {},
   "outputs": [
    {
     "data": {
      "text/plain": [
       "array([0.07220906, 0.32927276, 0.95601058, 0.01200318, 0.9885009 ,\n",
       "       0.01109651, 0.8220736 , 0.02137898, 0.01232494, 0.98030463])"
      ]
     },
     "execution_count": 69,
     "metadata": {},
     "output_type": "execute_result"
    }
   ],
   "source": [
    "new_probs_positive = new_probs[:,1]\n",
    "new_probs_positive[:10]"
   ]
  },
  {
   "cell_type": "code",
   "execution_count": 70,
   "metadata": {},
   "outputs": [],
   "source": [
    "fpr, tpr, thresholds = roc_curve(Y_test,new_probs_positive)"
   ]
  },
  {
   "cell_type": "code",
   "execution_count": 71,
   "metadata": {},
   "outputs": [
    {
     "data": {
      "image/png": "[encoded data removed]",
      "text/plain": [
       "<Figure size 432x288 with 1 Axes>"
      ]
     },
     "metadata": {},
     "output_type": "display_data"
    }
   ],
   "source": [
    "#Visualise Roc curve\n",
    "def plot_roc_curve(fpr, tpr):\n",
    "    \"\"\"\n",
    "    Plots a ROC curve given the false postive rate(fpr) \n",
    "    and true positive rate (tpr) of model.\n",
    "    \"\"\"\n",
    "    \n",
    "    plt.plot(fpr, tpr, color=\"red\", label=\"ROC\")\n",
    "    plt.xlabel(\"False positive rate (fpr)\")\n",
    "    plt.ylabel(\"True positive rate (tpr)\")\n",
    "    plt.title(\"Receiver Operating Characteristic (ROC) Curve\")\n",
    "    plt.legend()\n",
    "    plt.show()\n",
    "    \n",
    "plot_roc_curve(fpr, tpr)"
   ]
  },
  {
   "cell_type": "markdown",
   "metadata": {},
   "source": [
    "### Save Model"
   ]
  },
  {
   "cell_type": "code",
   "execution_count": 72,
   "metadata": {},
   "outputs": [],
   "source": [
    "#Saving Model\n",
    "pickle.dump(gsmodel, open(\"customer_churn_ml_project_model.pkl\", \"wb\"))"
   ]
  },
  {
   "cell_type": "markdown",
   "metadata": {},
   "source": [
    "# Deployment"
   ]
  },
  {
   "cell_type": "code",
   "execution_count": null,
   "metadata": {},
   "outputs": [],
   "source": []
  },
  {
   "cell_type": "code",
   "execution_count": null,
   "metadata": {},
   "outputs": [],
   "source": []
  },
  {
   "cell_type": "code",
   "execution_count": null,
   "metadata": {},
   "outputs": [],
   "source": []
  },
  {
   "cell_type": "code",
   "execution_count": null,
   "metadata": {},
   "outputs": [],
   "source": []
  },
  {
   "cell_type": "code",
   "execution_count": null,
   "metadata": {},
   "outputs": [],
   "source": []
  },
  {
   "cell_type": "code",
   "execution_count": null,
   "metadata": {},
   "outputs": [],
   "source": []
  }
 ],
 "metadata": {
  "colab": {
   "provenance": []
  },
  "kernelspec": {
   "display_name": "Python 3 (ipykernel)",
   "language": "python",
   "name": "python3"
  },
  "language_info": {
   "codemirror_mode": {
    "name": "ipython",
    "version": 3
   },
   "file_extension": ".py",
   "mimetype": "text/x-python",
   "name": "python",
   "nbconvert_exporter": "python",
   "pygments_lexer": "ipython3",
   "version": "3.9.7"
  }
 },
 "nbformat": 4,
 "nbformat_minor": 1
}
